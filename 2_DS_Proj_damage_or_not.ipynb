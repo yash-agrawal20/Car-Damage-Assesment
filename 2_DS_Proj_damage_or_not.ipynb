{
  "nbformat": 4,
  "nbformat_minor": 0,
  "metadata": {
    "colab": {
      "provenance": []
    },
    "kernelspec": {
      "name": "python3",
      "display_name": "Python 3"
    },
    "language_info": {
      "name": "python"
    }
  },
  "cells": [
    {
      "cell_type": "code",
      "source": [
        "from google.colab import drive\n",
        "drive.mount('/content/drive')"
      ],
      "metadata": {
        "colab": {
          "base_uri": "https://localhost:8080/"
        },
        "id": "M6CfMPuXnRTm",
        "outputId": "7bdd7d26-075b-4d27-9e35-4a7d3307106e"
      },
      "execution_count": null,
      "outputs": [
        {
          "output_type": "stream",
          "name": "stdout",
          "text": [
            "Mounted at /content/drive\n"
          ]
        }
      ]
    },
    {
      "cell_type": "code",
      "execution_count": null,
      "metadata": {
        "id": "7B-wc_iMmSzv"
      },
      "outputs": [],
      "source": [
        "import os\n",
        "import h5py\n",
        "import numpy as np\n",
        "import json\n",
        "import urllib.request\n",
        "import numpy as np\n",
        "import matplotlib.pyplot as plt\n",
        "import pandas as pd\n",
        "import seaborn as sns\n",
        "from IPython.display import Image, display, clear_output\n",
        "from sklearn.metrics import classification_report, confusion_matrix\n",
        "\n",
        "%matplotlib inline\n",
        "sns.set_style('whitegrid')"
      ]
    },
    {
      "cell_type": "code",
      "source": [
        "from keras import optimizers\n",
        "from keras import applications\n",
        "from keras.applications.vgg16 import VGG16\n",
        "from keras.models import Sequential, load_model, Model\n",
        "from keras.layers import Conv2D, MaxPooling2D, ZeroPadding2D, Activation, Dropout, Flatten, Dense, Input\n",
        "from keras.regularizers import l2, l1\n",
        "from keras.utils.np_utils import to_categorical\n",
        "from keras.callbacks import ModelCheckpoint, History\n",
        "from keras import backend as K\n",
        "from keras.utils.data_utils import get_file\n",
        "from tensorflow.keras.utils import load_img"
      ],
      "metadata": {
        "id": "r9ho53lkmhIG"
      },
      "execution_count": null,
      "outputs": []
    },
    {
      "cell_type": "code",
      "source": [
        "from tensorflow.keras.preprocessing.image import ImageDataGenerator\n",
        "from tensorflow.keras.preprocessing import image\n",
        "from tensorflow.keras.preprocessing.image import array_to_img\n",
        "from tensorflow.keras.preprocessing.image import img_to_array"
      ],
      "metadata": {
        "id": "fepF5CXxoV0m"
      },
      "execution_count": null,
      "outputs": []
    },
    {
      "cell_type": "code",
      "source": [
        "def plot_metrics(hist, stop=50):\n",
        "    fig, axes = plt.subplots(nrows=1, ncols=2, figsize=(10,4))\n",
        "                            \n",
        "    axes = axes.flatten()\n",
        "\n",
        "    axes[0].plot(range(stop), hist['accuracy'], label='Training', color='#FF533D')\n",
        "    axes[0].plot(range(stop), hist['val_accuracy'], label='Validation', color='#03507E')\n",
        "    axes[0].set_title('Accuracy')\n",
        "    axes[0].set_ylabel('Accuracy')\n",
        "    axes[0].set_xlabel('Epoch')\n",
        "    axes[0].legend(loc='lower right')\n",
        "                             \n",
        "    axes[1].plot(range(stop), hist['loss'], label='Training', color='#FF533D')\n",
        "    axes[1].plot(range(stop), hist['val_loss'], label='Validation', color='#03507E')\n",
        "    axes[1].set_title('Loss')\n",
        "    axes[1].set_ylabel('Loss')\n",
        "    axes[1].set_xlabel('Epoch')\n",
        "    axes[1].legend(loc='upper right')\n",
        "                             \n",
        "    plt.tight_layout();\n",
        "    \n",
        "    print(\"Best Model:\") \n",
        "    print_best_model_results(hist)"
      ],
      "metadata": {
        "id": "jxg1KvFnmjCR"
      },
      "execution_count": null,
      "outputs": []
    },
    {
      "cell_type": "code",
      "source": [
        "def plot_acc_metrics(hist1, hist2, stop=50):\n",
        "    fig, axes = plt.subplots(nrows=2, ncols=1, figsize=(4.25,6))\n",
        "                            \n",
        "    axes = axes.flatten()\n",
        "    \n",
        "    axes[0].plot(range(stop), hist1['accuracy'], label='Training', color='#FF533D')\n",
        "    axes[0].plot(range(stop), hist1['val_accuracy'], label='Validation', color='#03507E')\n",
        "    axes[0].set_title('Training')\n",
        "    axes[0].set_ylabel('Accuracy')\n",
        "    axes[0].set_xlabel('Epoch')\n",
        "    axes[0].legend(loc='lower right')\n",
        "                             \n",
        "    axes[1].plot(range(stop), hist2['accuracy'], label='Training', color='#FF533D')\n",
        "    axes[1].plot(range(stop), hist2['val_accuracy'], label='Validation', color='#03507E')\n",
        "    axes[1].set_title('Fine-tuning')\n",
        "    axes[1].set_ylabel('Accuracy')\n",
        "    axes[1].set_xlabel('Epoch')\n",
        "    axes[1].legend(loc='lower right')\n",
        "                             \n",
        "    plt.tight_layout();"
      ],
      "metadata": {
        "id": "R_sn2Z5rmzKm"
      },
      "execution_count": null,
      "outputs": []
    },
    {
      "cell_type": "code",
      "source": [
        "def print_best_model_results(model_hist):\n",
        "    best_epoch = np.argmax(model_hist['val_accuracy'])\n",
        "    print('epoch:', best_epoch+1, \\\n",
        "    ', val_accuracy:', model_hist['val_accuracy'][best_epoch], \\\n",
        "    ', val_loss:', model_hist['val_loss'][best_epoch])"
      ],
      "metadata": {
        "id": "DOZbrBMZm3Hf"
      },
      "execution_count": null,
      "outputs": []
    },
    {
      "cell_type": "code",
      "source": [
        "def save_bottleneck_features():\n",
        "    datagen = ImageDataGenerator(rescale=1./255)\n",
        "    \n",
        "    model = VGG16(include_top=False, weights='imagenet')\n",
        "    \n",
        "    generator = datagen.flow_from_directory(train_data_dir, target_size=(img_width, img_height), batch_size=batch_size, class_mode=None, shuffle=False)\n",
        "    bottleneck_features_train = model.predict(generator, nb_train_samples // batch_size)\n",
        "    np.save(location+'/bottleneck_features_train.npy', bottleneck_features_train)\n",
        "    \n",
        "    generator = datagen.flow_from_directory(validation_data_dir, target_size=(img_width, img_height), batch_size=batch_size, class_mode=None, shuffle=False)\n",
        "    bottleneck_features_validation = model.predict(generator, nb_validation_samples // batch_size)\n",
        "    np.save(location+'/bottleneck_features_validation.npy', bottleneck_features_validation)"
      ],
      "metadata": {
        "id": "iTU8i6Tfr0an"
      },
      "execution_count": null,
      "outputs": []
    },
    {
      "cell_type": "code",
      "source": [
        "def train_top_model():\n",
        "    train_data = np.load(location+'/bottleneck_features_train.npy')\n",
        "    train_labels = np.array([0] * (nb_train_samples // 2) + [1] * (nb_train_samples // 2))\n",
        "    \n",
        "    validation_data = np.load(location+'/bottleneck_features_validation.npy')\n",
        "    validation_labels = np.array([0] * (nb_validation_samples // 2) + [1] * (nb_validation_samples // 2))\n",
        "    \n",
        "    model = Sequential()\n",
        "    model.add(Flatten(input_shape=train_data.shape[1:]))\n",
        "    model.add(Dense(256,activation='relu'))\n",
        "    model.add(Dropout(0.5))\n",
        "    model.add(Dense(1,activation='sigmoid'))\n",
        "    model.compile(optimizer='rmsprop', loss='binary_crossentropy', metrics=['accuracy'])\n",
        "    \n",
        "    checkpoint = ModelCheckpoint(top_model_weights_path, monitor='val_accuracy', verbose=1, save_best_only=True, save_weights_only=True, mode='auto')\n",
        "    \n",
        "    fit = model.fit(train_data, train_labels, epochs=epochs, batch_size=batch_size,validation_data=(validation_data,validation_labels), callbacks=[checkpoint])\n",
        "    \n",
        "    with open(location+'/top_history.txt', 'w') as f:\n",
        "        json.dump(fit.history, f) \n",
        "        \n",
        "    return model, fit.history"
      ],
      "metadata": {
        "id": "rZEC69Q0m6pH"
      },
      "execution_count": null,
      "outputs": []
    },
    {
      "cell_type": "code",
      "source": [
        "def finetune_binary_model():\n",
        "    base_model = VGG16(weights='imagenet', include_top=False, input_shape=(256,256,3))\n",
        "    print(\"Model loaded.\")\n",
        "    \n",
        "    top_model = Sequential()\n",
        "    top_model.add(Flatten(input_shape=base_model.output_shape[1:]))\n",
        "    top_model.add(Dense(256, activation='relu'))\n",
        "    top_model.add(Dropout(0.5))\n",
        "    top_model.add(Dense(1, activation='sigmoid'))\n",
        "    \n",
        "    top_model.load_weights(top_model_weights_path)\n",
        "    \n",
        "    model = Model(inputs=base_model.input, outputs=top_model(base_model.output))\n",
        "    \n",
        "    for layer in model.layers[:25]:\n",
        "        layer.trainable = False\n",
        "    \n",
        "    model.compile(loss='binary_crossentropy', optimizer=optimizers.SGD(lr=1e-4, momentum=0.9), metrics=['accuracy'])\n",
        "    \n",
        "    train_datagen = ImageDataGenerator(rescale = 1./255, zoom_range=0.2, shear_range=0.2, horizontal_flip=True)\n",
        "    \n",
        "    test_datagen = ImageDataGenerator(rescale=1./255)\n",
        "    \n",
        "    train_generator = train_datagen.flow_from_directory(train_data_dir, target_size=(img_height, img_width), batch_size=batch_size, class_mode='binary')\n",
        "    \n",
        "    validation_generator = test_datagen.flow_from_directory(validation_data_dir, target_size=(img_height, img_width), batch_size=batch_size, class_mode='binary')\n",
        "    \n",
        "    checkpoint = ModelCheckpoint(fine_tuned_model_path, monitor='val_accuracy', verbose=1, save_best_only=True, save_weights_only=False, mode='auto')\n",
        "    \n",
        "    fit = model.fit_generator(train_generator, steps_per_epoch=nb_train_samples//batch_size, epochs=epochs, validation_data=validation_generator, validation_steps=nb_validation_samples//batch_size, verbose=1, callbacks=[checkpoint])\n",
        "    \n",
        "    with open(location+'/ft_history.txt', 'w') as f:\n",
        "        json.dump(fit.history, f)\n",
        "        \n",
        "    return model, fit.history "
      ],
      "metadata": {
        "id": "FA78ENFmnD0P"
      },
      "execution_count": null,
      "outputs": []
    },
    {
      "cell_type": "code",
      "source": [
        "def evaluate_binary_model(model, directory, labels):\n",
        "    datagen = ImageDataGenerator(rescale=1./255)\n",
        "    \n",
        "    generator = datagen.flow_from_directory(directory, target_size=(img_height,img_width), batch_size=batch_size, class_mode='binary', shuffle=False)\n",
        "    \n",
        "    predictions = model.predict(generator, len(labels))\n",
        "    \n",
        "    pred_labels = [0 if i<0.5 else 1 for i in predictions]\n",
        "    \n",
        "    print('')\n",
        "    print(classification_report(validation_labels, pred_labels))\n",
        "    print('')\n",
        "    cm = confusion_matrix(validation_labels, pred_labels)\n",
        "    return cm"
      ],
      "metadata": {
        "id": "iOcLWthNnH9m"
      },
      "execution_count": null,
      "outputs": []
    },
    {
      "cell_type": "code",
      "source": [
        "#Defining Input\n",
        "location = '/content/drive/MyDrive/DS_Project/Final_Dataset/augumentation_data_1/data_1'\n",
        "top_model_weights_path = location+'/top_model_weights.h5'\n",
        "fine_tuned_model_path = location+'/ft_model.h5'\n",
        "\n",
        "train_data_dir = location+'/train'\n",
        "validation_data_dir = location+'/test'\n",
        "train_samples = [len(os.listdir(train_data_dir+'/'+i)) for i in sorted(os.listdir(train_data_dir))]\n",
        "nb_train_samples = 3680\n",
        "validation_samples = [len(os.listdir(validation_data_dir+'/'+i)) for i in sorted(os.listdir(validation_data_dir))]\n",
        "nb_validation_samples = 920\n",
        "\n",
        "img_width, img_height = 256,256\n",
        "epochs = 50\n",
        "#epochs = 1\n",
        "batch_size = 16"
      ],
      "metadata": {
        "id": "mCl8nAVdnJZ9"
      },
      "execution_count": null,
      "outputs": []
    },
    {
      "cell_type": "code",
      "source": [
        "save_bottleneck_features()"
      ],
      "metadata": {
        "colab": {
          "base_uri": "https://localhost:8080/"
        },
        "id": "zVJuajgkzj34",
        "outputId": "d2f381d2-4d41-49fa-c264-b408fe613734"
      },
      "execution_count": null,
      "outputs": [
        {
          "output_type": "stream",
          "name": "stdout",
          "text": [
            "Downloading data from https://storage.googleapis.com/tensorflow/keras-applications/vgg16/vgg16_weights_tf_dim_ordering_tf_kernels_notop.h5\n",
            "58889256/58889256 [==============================] - 3s 0us/step\n",
            "Found 3680 images belonging to 2 classes.\n",
            "230/230 [==============================] - 2640s 11s/step\n",
            "Found 920 images belonging to 2 classes.\n",
            "58/58 [==============================] - 645s 11s/step\n"
          ]
        }
      ]
    },
    {
      "cell_type": "code",
      "source": [
        "d2_model1, d2_history1 = train_top_model()"
      ],
      "metadata": {
        "colab": {
          "base_uri": "https://localhost:8080/"
        },
        "id": "CfE8we3rr_SO",
        "outputId": "a87fe4e9-508d-4d5a-b496-7a8c6a956a1b"
      },
      "execution_count": null,
      "outputs": [
        {
          "output_type": "stream",
          "name": "stdout",
          "text": [
            "Epoch 1/50\n",
            "230/230 [==============================] - ETA: 0s - loss: 1.1910 - accuracy: 0.7837\n",
            "Epoch 1: val_accuracy improved from -inf to 0.89565, saving model to /content/drive/MyDrive/DS_Project/Final_Dataset/augumentation_data_1/data_1/top_model_weights.h5\n",
            "230/230 [==============================] - 26s 109ms/step - loss: 1.1910 - accuracy: 0.7837 - val_loss: 0.2910 - val_accuracy: 0.8957\n",
            "Epoch 2/50\n",
            "230/230 [==============================] - ETA: 0s - loss: 0.4584 - accuracy: 0.8448\n",
            "Epoch 2: val_accuracy improved from 0.89565 to 0.91087, saving model to /content/drive/MyDrive/DS_Project/Final_Dataset/augumentation_data_1/data_1/top_model_weights.h5\n",
            "230/230 [==============================] - 30s 130ms/step - loss: 0.4584 - accuracy: 0.8448 - val_loss: 0.2630 - val_accuracy: 0.9109\n",
            "Epoch 3/50\n",
            "230/230 [==============================] - ETA: 0s - loss: 0.3486 - accuracy: 0.8777\n",
            "Epoch 3: val_accuracy did not improve from 0.91087\n",
            "230/230 [==============================] - 19s 81ms/step - loss: 0.3486 - accuracy: 0.8777 - val_loss: 0.2408 - val_accuracy: 0.9098\n",
            "Epoch 4/50\n",
            "230/230 [==============================] - ETA: 0s - loss: 0.3298 - accuracy: 0.8981\n",
            "Epoch 4: val_accuracy did not improve from 0.91087\n",
            "230/230 [==============================] - 19s 81ms/step - loss: 0.3298 - accuracy: 0.8981 - val_loss: 0.3104 - val_accuracy: 0.9033\n",
            "Epoch 5/50\n",
            "230/230 [==============================] - ETA: 0s - loss: 0.2434 - accuracy: 0.9182\n",
            "Epoch 5: val_accuracy did not improve from 0.91087\n",
            "230/230 [==============================] - 18s 77ms/step - loss: 0.2434 - accuracy: 0.9182 - val_loss: 0.3411 - val_accuracy: 0.9043\n",
            "Epoch 6/50\n",
            "230/230 [==============================] - ETA: 0s - loss: 0.2415 - accuracy: 0.9274\n",
            "Epoch 6: val_accuracy improved from 0.91087 to 0.91304, saving model to /content/drive/MyDrive/DS_Project/Final_Dataset/augumentation_data_1/data_1/top_model_weights.h5\n",
            "230/230 [==============================] - 19s 82ms/step - loss: 0.2415 - accuracy: 0.9274 - val_loss: 0.3862 - val_accuracy: 0.9130\n",
            "Epoch 7/50\n",
            "230/230 [==============================] - ETA: 0s - loss: 0.1798 - accuracy: 0.9410\n",
            "Epoch 7: val_accuracy did not improve from 0.91304\n",
            "230/230 [==============================] - 19s 83ms/step - loss: 0.1798 - accuracy: 0.9410 - val_loss: 1.0184 - val_accuracy: 0.8239\n",
            "Epoch 8/50\n",
            "230/230 [==============================] - ETA: 0s - loss: 0.1661 - accuracy: 0.9462\n",
            "Epoch 8: val_accuracy improved from 0.91304 to 0.91957, saving model to /content/drive/MyDrive/DS_Project/Final_Dataset/augumentation_data_1/data_1/top_model_weights.h5\n",
            "230/230 [==============================] - 20s 85ms/step - loss: 0.1661 - accuracy: 0.9462 - val_loss: 0.4256 - val_accuracy: 0.9196\n",
            "Epoch 9/50\n",
            "230/230 [==============================] - ETA: 0s - loss: 0.1704 - accuracy: 0.9538\n",
            "Epoch 9: val_accuracy improved from 0.91957 to 0.92174, saving model to /content/drive/MyDrive/DS_Project/Final_Dataset/augumentation_data_1/data_1/top_model_weights.h5\n",
            "230/230 [==============================] - 19s 81ms/step - loss: 0.1704 - accuracy: 0.9538 - val_loss: 0.3670 - val_accuracy: 0.9217\n",
            "Epoch 10/50\n",
            "230/230 [==============================] - ETA: 0s - loss: 0.1331 - accuracy: 0.9606\n",
            "Epoch 10: val_accuracy did not improve from 0.92174\n",
            "230/230 [==============================] - 19s 83ms/step - loss: 0.1331 - accuracy: 0.9606 - val_loss: 0.6341 - val_accuracy: 0.9054\n",
            "Epoch 11/50\n",
            "230/230 [==============================] - ETA: 0s - loss: 0.1062 - accuracy: 0.9688\n",
            "Epoch 11: val_accuracy did not improve from 0.92174\n",
            "230/230 [==============================] - 18s 76ms/step - loss: 0.1062 - accuracy: 0.9688 - val_loss: 0.5388 - val_accuracy: 0.9109\n",
            "Epoch 12/50\n",
            "230/230 [==============================] - ETA: 0s - loss: 0.0980 - accuracy: 0.9704\n",
            "Epoch 12: val_accuracy improved from 0.92174 to 0.92391, saving model to /content/drive/MyDrive/DS_Project/Final_Dataset/augumentation_data_1/data_1/top_model_weights.h5\n",
            "230/230 [==============================] - 18s 80ms/step - loss: 0.0980 - accuracy: 0.9704 - val_loss: 0.6328 - val_accuracy: 0.9239\n",
            "Epoch 13/50\n",
            "230/230 [==============================] - ETA: 0s - loss: 0.1018 - accuracy: 0.9709\n",
            "Epoch 13: val_accuracy improved from 0.92391 to 0.92609, saving model to /content/drive/MyDrive/DS_Project/Final_Dataset/augumentation_data_1/data_1/top_model_weights.h5\n",
            "230/230 [==============================] - 20s 85ms/step - loss: 0.1018 - accuracy: 0.9709 - val_loss: 0.6139 - val_accuracy: 0.9261\n",
            "Epoch 14/50\n",
            "230/230 [==============================] - ETA: 0s - loss: 0.1166 - accuracy: 0.9723\n",
            "Epoch 14: val_accuracy did not improve from 0.92609\n",
            "230/230 [==============================] - 18s 77ms/step - loss: 0.1166 - accuracy: 0.9723 - val_loss: 0.6730 - val_accuracy: 0.9239\n",
            "Epoch 15/50\n",
            "230/230 [==============================] - ETA: 0s - loss: 0.0813 - accuracy: 0.9777\n",
            "Epoch 15: val_accuracy did not improve from 0.92609\n",
            "230/230 [==============================] - 18s 77ms/step - loss: 0.0813 - accuracy: 0.9777 - val_loss: 0.6406 - val_accuracy: 0.9250\n",
            "Epoch 16/50\n",
            "230/230 [==============================] - ETA: 0s - loss: 0.0916 - accuracy: 0.9772\n",
            "Epoch 16: val_accuracy did not improve from 0.92609\n",
            "230/230 [==============================] - 18s 80ms/step - loss: 0.0916 - accuracy: 0.9772 - val_loss: 0.7421 - val_accuracy: 0.9207\n",
            "Epoch 17/50\n",
            "230/230 [==============================] - ETA: 0s - loss: 0.0714 - accuracy: 0.9804\n",
            "Epoch 17: val_accuracy did not improve from 0.92609\n",
            "230/230 [==============================] - 18s 80ms/step - loss: 0.0714 - accuracy: 0.9804 - val_loss: 0.9945 - val_accuracy: 0.9109\n",
            "Epoch 18/50\n",
            "230/230 [==============================] - ETA: 0s - loss: 0.0698 - accuracy: 0.9837\n",
            "Epoch 18: val_accuracy did not improve from 0.92609\n",
            "230/230 [==============================] - 18s 76ms/step - loss: 0.0698 - accuracy: 0.9837 - val_loss: 0.9780 - val_accuracy: 0.9163\n",
            "Epoch 19/50\n",
            "230/230 [==============================] - ETA: 0s - loss: 0.0900 - accuracy: 0.9804\n",
            "Epoch 19: val_accuracy did not improve from 0.92609\n",
            "230/230 [==============================] - 18s 77ms/step - loss: 0.0900 - accuracy: 0.9804 - val_loss: 0.8762 - val_accuracy: 0.9163\n",
            "Epoch 20/50\n",
            "230/230 [==============================] - ETA: 0s - loss: 0.0577 - accuracy: 0.9851\n",
            "Epoch 20: val_accuracy did not improve from 0.92609\n",
            "230/230 [==============================] - 19s 83ms/step - loss: 0.0577 - accuracy: 0.9851 - val_loss: 1.0260 - val_accuracy: 0.9130\n",
            "Epoch 21/50\n",
            "230/230 [==============================] - ETA: 0s - loss: 0.0871 - accuracy: 0.9834\n",
            "Epoch 21: val_accuracy did not improve from 0.92609\n",
            "230/230 [==============================] - 18s 77ms/step - loss: 0.0871 - accuracy: 0.9834 - val_loss: 0.8953 - val_accuracy: 0.9207\n",
            "Epoch 22/50\n",
            "230/230 [==============================] - ETA: 0s - loss: 0.0444 - accuracy: 0.9897\n",
            "Epoch 22: val_accuracy did not improve from 0.92609\n",
            "230/230 [==============================] - 18s 77ms/step - loss: 0.0444 - accuracy: 0.9897 - val_loss: 1.0641 - val_accuracy: 0.9054\n",
            "Epoch 23/50\n",
            "230/230 [==============================] - ETA: 0s - loss: 0.0524 - accuracy: 0.9870\n",
            "Epoch 23: val_accuracy did not improve from 0.92609\n",
            "230/230 [==============================] - 19s 82ms/step - loss: 0.0524 - accuracy: 0.9870 - val_loss: 0.9064 - val_accuracy: 0.9152\n",
            "Epoch 24/50\n",
            "230/230 [==============================] - ETA: 0s - loss: 0.0547 - accuracy: 0.9883\n",
            "Epoch 24: val_accuracy did not improve from 0.92609\n",
            "230/230 [==============================] - 18s 76ms/step - loss: 0.0547 - accuracy: 0.9883 - val_loss: 0.8773 - val_accuracy: 0.9207\n",
            "Epoch 25/50\n",
            "230/230 [==============================] - ETA: 0s - loss: 0.0475 - accuracy: 0.9897\n",
            "Epoch 25: val_accuracy did not improve from 0.92609\n",
            "230/230 [==============================] - 18s 77ms/step - loss: 0.0475 - accuracy: 0.9897 - val_loss: 0.9658 - val_accuracy: 0.9228\n",
            "Epoch 26/50\n",
            "230/230 [==============================] - ETA: 0s - loss: 0.0523 - accuracy: 0.9875\n",
            "Epoch 26: val_accuracy did not improve from 0.92609\n",
            "230/230 [==============================] - 18s 78ms/step - loss: 0.0523 - accuracy: 0.9875 - val_loss: 1.1920 - val_accuracy: 0.9109\n",
            "Epoch 27/50\n",
            "230/230 [==============================] - ETA: 0s - loss: 0.0552 - accuracy: 0.9886\n",
            "Epoch 27: val_accuracy did not improve from 0.92609\n",
            "230/230 [==============================] - 19s 81ms/step - loss: 0.0552 - accuracy: 0.9886 - val_loss: 1.0609 - val_accuracy: 0.9185\n",
            "Epoch 28/50\n",
            "230/230 [==============================] - ETA: 0s - loss: 0.0408 - accuracy: 0.9908\n",
            "Epoch 28: val_accuracy did not improve from 0.92609\n",
            "230/230 [==============================] - 18s 77ms/step - loss: 0.0408 - accuracy: 0.9908 - val_loss: 1.2490 - val_accuracy: 0.9207\n",
            "Epoch 29/50\n",
            "230/230 [==============================] - ETA: 0s - loss: 0.0463 - accuracy: 0.9910\n",
            "Epoch 29: val_accuracy did not improve from 0.92609\n",
            "230/230 [==============================] - 18s 77ms/step - loss: 0.0463 - accuracy: 0.9910 - val_loss: 1.1776 - val_accuracy: 0.9196\n",
            "Epoch 30/50\n",
            "230/230 [==============================] - ETA: 0s - loss: 0.0316 - accuracy: 0.9937\n",
            "Epoch 30: val_accuracy did not improve from 0.92609\n",
            "230/230 [==============================] - 19s 82ms/step - loss: 0.0316 - accuracy: 0.9937 - val_loss: 1.2819 - val_accuracy: 0.9228\n",
            "Epoch 31/50\n",
            "230/230 [==============================] - ETA: 0s - loss: 0.0259 - accuracy: 0.9943\n",
            "Epoch 31: val_accuracy did not improve from 0.92609\n",
            "230/230 [==============================] - 18s 78ms/step - loss: 0.0259 - accuracy: 0.9943 - val_loss: 1.1936 - val_accuracy: 0.9250\n",
            "Epoch 32/50\n",
            "230/230 [==============================] - ETA: 0s - loss: 0.0338 - accuracy: 0.9929\n",
            "Epoch 32: val_accuracy did not improve from 0.92609\n",
            "230/230 [==============================] - 18s 76ms/step - loss: 0.0338 - accuracy: 0.9929 - val_loss: 1.3411 - val_accuracy: 0.9120\n",
            "Epoch 33/50\n",
            "230/230 [==============================] - ETA: 0s - loss: 0.0203 - accuracy: 0.9946\n",
            "Epoch 33: val_accuracy did not improve from 0.92609\n",
            "230/230 [==============================] - 19s 82ms/step - loss: 0.0203 - accuracy: 0.9946 - val_loss: 1.5667 - val_accuracy: 0.9141\n",
            "Epoch 34/50\n",
            "230/230 [==============================] - ETA: 0s - loss: 0.0422 - accuracy: 0.9927\n",
            "Epoch 34: val_accuracy did not improve from 0.92609\n",
            "230/230 [==============================] - 18s 76ms/step - loss: 0.0422 - accuracy: 0.9927 - val_loss: 1.2181 - val_accuracy: 0.9174\n",
            "Epoch 35/50\n",
            "230/230 [==============================] - ETA: 0s - loss: 0.0693 - accuracy: 0.9935\n",
            "Epoch 35: val_accuracy did not improve from 0.92609\n",
            "230/230 [==============================] - 18s 77ms/step - loss: 0.0693 - accuracy: 0.9935 - val_loss: 1.6480 - val_accuracy: 0.9000\n",
            "Epoch 36/50\n",
            "230/230 [==============================] - ETA: 0s - loss: 0.0315 - accuracy: 0.9932\n",
            "Epoch 36: val_accuracy did not improve from 0.92609\n",
            "230/230 [==============================] - 20s 88ms/step - loss: 0.0315 - accuracy: 0.9932 - val_loss: 1.5005 - val_accuracy: 0.9217\n",
            "Epoch 37/50\n",
            "230/230 [==============================] - ETA: 0s - loss: 0.0404 - accuracy: 0.9908\n",
            "Epoch 37: val_accuracy did not improve from 0.92609\n",
            "230/230 [==============================] - 18s 77ms/step - loss: 0.0404 - accuracy: 0.9908 - val_loss: 1.5385 - val_accuracy: 0.9141\n",
            "Epoch 38/50\n",
            "230/230 [==============================] - ETA: 0s - loss: 0.0283 - accuracy: 0.9951\n",
            "Epoch 38: val_accuracy did not improve from 0.92609\n",
            "230/230 [==============================] - 18s 77ms/step - loss: 0.0283 - accuracy: 0.9951 - val_loss: 1.6115 - val_accuracy: 0.9087\n",
            "Epoch 39/50\n",
            "230/230 [==============================] - ETA: 0s - loss: 0.0225 - accuracy: 0.9937\n",
            "Epoch 39: val_accuracy did not improve from 0.92609\n",
            "230/230 [==============================] - 18s 77ms/step - loss: 0.0225 - accuracy: 0.9937 - val_loss: 1.3161 - val_accuracy: 0.9239\n",
            "Epoch 40/50\n",
            "230/230 [==============================] - ETA: 0s - loss: 0.0392 - accuracy: 0.9918\n",
            "Epoch 40: val_accuracy did not improve from 0.92609\n",
            "230/230 [==============================] - 19s 82ms/step - loss: 0.0392 - accuracy: 0.9918 - val_loss: 1.5567 - val_accuracy: 0.9196\n",
            "Epoch 41/50\n",
            "230/230 [==============================] - ETA: 0s - loss: 0.0255 - accuracy: 0.9951\n",
            "Epoch 41: val_accuracy did not improve from 0.92609\n",
            "230/230 [==============================] - 18s 76ms/step - loss: 0.0255 - accuracy: 0.9951 - val_loss: 1.4528 - val_accuracy: 0.9239\n",
            "Epoch 42/50\n",
            "230/230 [==============================] - ETA: 0s - loss: 0.0301 - accuracy: 0.9932\n",
            "Epoch 42: val_accuracy did not improve from 0.92609\n",
            "230/230 [==============================] - 18s 77ms/step - loss: 0.0301 - accuracy: 0.9932 - val_loss: 1.5469 - val_accuracy: 0.9250\n",
            "Epoch 43/50\n",
            "230/230 [==============================] - ETA: 0s - loss: 0.0154 - accuracy: 0.9954\n",
            "Epoch 43: val_accuracy did not improve from 0.92609\n",
            "230/230 [==============================] - 19s 82ms/step - loss: 0.0154 - accuracy: 0.9954 - val_loss: 1.5251 - val_accuracy: 0.9185\n",
            "Epoch 44/50\n",
            "230/230 [==============================] - ETA: 0s - loss: 0.0148 - accuracy: 0.9978\n",
            "Epoch 44: val_accuracy did not improve from 0.92609\n",
            "230/230 [==============================] - 21s 90ms/step - loss: 0.0148 - accuracy: 0.9978 - val_loss: 1.7036 - val_accuracy: 0.9250\n",
            "Epoch 45/50\n",
            "230/230 [==============================] - ETA: 0s - loss: 0.0199 - accuracy: 0.9967\n",
            "Epoch 45: val_accuracy did not improve from 0.92609\n",
            "230/230 [==============================] - 18s 77ms/step - loss: 0.0199 - accuracy: 0.9967 - val_loss: 1.5802 - val_accuracy: 0.9239\n",
            "Epoch 46/50\n",
            "230/230 [==============================] - ETA: 0s - loss: 0.0131 - accuracy: 0.9962\n",
            "Epoch 46: val_accuracy did not improve from 0.92609\n",
            "230/230 [==============================] - 19s 83ms/step - loss: 0.0131 - accuracy: 0.9962 - val_loss: 1.4835 - val_accuracy: 0.9239\n",
            "Epoch 47/50\n",
            "230/230 [==============================] - ETA: 0s - loss: 0.0288 - accuracy: 0.9957\n",
            "Epoch 47: val_accuracy did not improve from 0.92609\n",
            "230/230 [==============================] - 18s 77ms/step - loss: 0.0288 - accuracy: 0.9957 - val_loss: 1.7926 - val_accuracy: 0.9217\n",
            "Epoch 48/50\n",
            "230/230 [==============================] - ETA: 0s - loss: 0.0298 - accuracy: 0.9943\n",
            "Epoch 48: val_accuracy did not improve from 0.92609\n",
            "230/230 [==============================] - 18s 77ms/step - loss: 0.0298 - accuracy: 0.9943 - val_loss: 1.7421 - val_accuracy: 0.9239\n",
            "Epoch 49/50\n",
            "230/230 [==============================] - ETA: 0s - loss: 0.0385 - accuracy: 0.9935\n",
            "Epoch 49: val_accuracy did not improve from 0.92609\n",
            "230/230 [==============================] - 18s 78ms/step - loss: 0.0385 - accuracy: 0.9935 - val_loss: 1.5088 - val_accuracy: 0.9207\n",
            "Epoch 50/50\n",
            "230/230 [==============================] - ETA: 0s - loss: 0.0210 - accuracy: 0.9962\n",
            "Epoch 50: val_accuracy did not improve from 0.92609\n",
            "230/230 [==============================] - 19s 82ms/step - loss: 0.0210 - accuracy: 0.9962 - val_loss: 1.8533 - val_accuracy: 0.9141\n"
          ]
        }
      ]
    },
    {
      "cell_type": "code",
      "source": [
        "plot_metrics(d2_history1)"
      ],
      "metadata": {
        "colab": {
          "base_uri": "https://localhost:8080/",
          "height": 299
        },
        "id": "I24fwqf9sDtl",
        "outputId": "d9d98ec6-c2ec-4e58-ab86-6c3944237231"
      },
      "execution_count": null,
      "outputs": [
        {
          "output_type": "stream",
          "name": "stdout",
          "text": [
            "Best Model:\n",
            "epoch: 13 , val_accuracy: 0.926086962223053 , val_loss: 0.6139264702796936\n"
          ]
        },
        {
          "output_type": "display_data",
          "data": {
            "text/plain": [
              "<Figure size 720x288 with 2 Axes>"
            ],
            "image/png": "[encoded data removed]"
          },
          "metadata": {}
        }
      ]
    },
    {
      "cell_type": "code",
      "source": [
        "#Fine Tuning\n",
        "ft_model, ft_history = finetune_binary_model()"
      ],
      "metadata": {
        "colab": {
          "base_uri": "https://localhost:8080/"
        },
        "id": "sacwTR0HnmBy",
        "outputId": "47b27944-6099-428f-c448-47b0cf8e5248"
      },
      "execution_count": null,
      "outputs": [
        {
          "output_type": "stream",
          "name": "stdout",
          "text": [
            "Model loaded.\n"
          ]
        },
        {
          "output_type": "stream",
          "name": "stderr",
          "text": [
            "/usr/local/lib/python3.7/dist-packages/keras/optimizers/optimizer_v2/gradient_descent.py:108: UserWarning: The `lr` argument is deprecated, use `learning_rate` instead.\n",
            "  super(SGD, self).__init__(name, **kwargs)\n"
          ]
        },
        {
          "output_type": "stream",
          "name": "stdout",
          "text": [
            "Found 3680 images belonging to 2 classes.\n",
            "Found 920 images belonging to 2 classes.\n"
          ]
        },
        {
          "output_type": "stream",
          "name": "stderr",
          "text": [
            "/usr/local/lib/python3.7/dist-packages/ipykernel_launcher.py:30: UserWarning: `Model.fit_generator` is deprecated and will be removed in a future version. Please use `Model.fit`, which supports generators.\n"
          ]
        },
        {
          "output_type": "stream",
          "name": "stdout",
          "text": [
            "230/230 [==============================] - ETA: 0s - loss: 0.4785 - accuracy: 0.9239 \n",
            "Epoch 1: val_accuracy improved from -inf to 0.92544, saving model to /content/drive/MyDrive/DS_Project/Final_Dataset/augumentation_data_1/data_1/ft_model.h5\n",
            "230/230 [==============================] - 3247s 14s/step - loss: 0.4785 - accuracy: 0.9239 - val_loss: 0.6193 - val_accuracy: 0.9254\n"
          ]
        }
      ]
    },
    {
      "cell_type": "code",
      "source": [
        "#plot_metrics(ft_history)"
      ],
      "metadata": {
        "id": "b04hcxdHwZ9D"
      },
      "execution_count": null,
      "outputs": []
    },
    {
      "cell_type": "code",
      "source": [
        "#Load Model\n",
        "ft_model = load_model(location+'/ft_model.h5')"
      ],
      "metadata": {
        "id": "BEmrH6NPsQn1"
      },
      "execution_count": null,
      "outputs": []
    },
    {
      "cell_type": "code",
      "source": [
        "with open('/content/drive/MyDrive/DS_Project/Final_Dataset/augumentation_data_1/data_1/top_history.txt') as f:    \n",
        "    top_history = json.load(f)"
      ],
      "metadata": {
        "id": "b5P613dXtKwO"
      },
      "execution_count": null,
      "outputs": []
    },
    {
      "cell_type": "code",
      "source": [
        "with open('/content/drive/MyDrive/DS_Project/Final_Dataset/augumentation_data_1/data_1/ft_history.txt') as f:    \n",
        "    ft_history = json.load(f)"
      ],
      "metadata": {
        "id": "6Im_U4v-uBoJ"
      },
      "execution_count": null,
      "outputs": []
    },
    {
      "cell_type": "code",
      "source": [
        "#plot_acc_metrics(top_history, ft_history)"
      ],
      "metadata": {
        "id": "n5FYZLI4uHc4"
      },
      "execution_count": null,
      "outputs": []
    },
    {
      "cell_type": "code",
      "source": [
        "validation_labels = np.array([0] * (nb_validation_samples // 2) + [1] * (nb_validation_samples // 2))"
      ],
      "metadata": {
        "id": "CfX4lKBtECkH"
      },
      "execution_count": null,
      "outputs": []
    },
    {
      "cell_type": "code",
      "source": [
        "cm = evaluate_binary_model(ft_model, validation_data_dir, validation_labels)"
      ],
      "metadata": {
        "colab": {
          "base_uri": "https://localhost:8080/"
        },
        "id": "z5LxNlPkEFUF",
        "outputId": "f0d3ef02-41ba-4ce7-e1b4-92149eb3d933"
      },
      "execution_count": null,
      "outputs": [
        {
          "output_type": "stream",
          "name": "stdout",
          "text": [
            "Found 920 images belonging to 2 classes.\n",
            "58/58 [==============================] - 648s 11s/step\n",
            "\n",
            "              precision    recall  f1-score   support\n",
            "\n",
            "           0       0.91      0.94      0.93       460\n",
            "           1       0.94      0.91      0.92       460\n",
            "\n",
            "    accuracy                           0.93       920\n",
            "   macro avg       0.93      0.93      0.93       920\n",
            "weighted avg       0.93      0.93      0.93       920\n",
            "\n",
            "\n"
          ]
        }
      ]
    },
    {
      "cell_type": "code",
      "source": [
        "heatmap_labels = ['Damaged', 'Whole']"
      ],
      "metadata": {
        "id": "Xf9B-DVOEPdF"
      },
      "execution_count": null,
      "outputs": []
    },
    {
      "cell_type": "code",
      "source": [
        "sns.heatmap(cm, annot=True, annot_kws={\"size\":16}, fmt='g', cmap='OrRd', xticklabels=heatmap_labels, yticklabels=heatmap_labels)"
      ],
      "metadata": {
        "colab": {
          "base_uri": "https://localhost:8080/",
          "height": 282
        },
        "id": "xqWIs1QfESD7",
        "outputId": "37ca2fb3-0d1f-4260-8e59-0dc209f5ff9c"
      },
      "execution_count": null,
      "outputs": [
        {
          "output_type": "execute_result",
          "data": {
            "text/plain": [
              "<matplotlib.axes._subplots.AxesSubplot at 0x7f7c5d38c810>"
            ]
          },
          "metadata": {},
          "execution_count": 52
        },
        {
          "output_type": "display_data",
          "data": {
            "text/plain": [
              "<Figure size 432x288 with 2 Axes>"
            ],
            "image/png": "[encoded data removed]"
          },
          "metadata": {}
        }
      ]
    },
    {
      "cell_type": "code",
      "source": [
        "sns.heatmap(cm, annot=True, annot_kws={\"size\":16}, fmt='g', cmap='Blues', xticklabels=heatmap_labels, yticklabels=heatmap_labels)"
      ],
      "metadata": {
        "colab": {
          "base_uri": "https://localhost:8080/",
          "height": 282
        },
        "id": "Fo8jTTr_Eadz",
        "outputId": "8285f4ef-177d-4fae-f074-5dcb54e54f0a"
      },
      "execution_count": null,
      "outputs": [
        {
          "output_type": "execute_result",
          "data": {
            "text/plain": [
              "<matplotlib.axes._subplots.AxesSubplot at 0x7f7c5d2cb810>"
            ]
          },
          "metadata": {},
          "execution_count": 53
        },
        {
          "output_type": "display_data",
          "data": {
            "text/plain": [
              "<Figure size 432x288 with 2 Axes>"
            ],
            "image/png": "[encoded data removed]"
          },
          "metadata": {}
        }
      ]
    },
    {
      "cell_type": "code",
      "source": [
        "#Pipe 2"
      ],
      "metadata": {
        "id": "7Mg8R2rTEfcL"
      },
      "execution_count": null,
      "outputs": []
    },
    {
      "cell_type": "code",
      "source": [
        "def pipe2(image_path, model):\n",
        "    urllib.request.urlretrieve(image_path, 'save.jpg')\n",
        "    img = load_img('save.jpg', target_size=(256,256))\n",
        "    x = img_to_array(img)\n",
        "    x = x.reshape((1,) + x.shape)/255\n",
        "    pred = model.predict(x)\n",
        "    print(\"Validating that damage exists....\")\n",
        "    print(pred)\n",
        "    if(pred[0][0]<=0.5):\n",
        "        print(\"Validation complete - proceed to location and severity determination\")\n",
        "    else:\n",
        "        print (\"Are you sure that your car is damaged? Please submit another picture of the damage.\")\n",
        "        print (\"Hint: Try zooming in/out, using a different angle or different lighting\")"
      ],
      "metadata": {
        "id": "tOSxBbySEjQE"
      },
      "execution_count": null,
      "outputs": []
    },
    {
      "cell_type": "code",
      "source": [
        "pipe2('https://i.ytimg.com/vi/4oV1klVPogY/maxresdefault.jpg', ft_model)"
      ],
      "metadata": {
        "colab": {
          "base_uri": "https://localhost:8080/"
        },
        "id": "0fym0ErDNdh8",
        "outputId": "449e77a2-58de-401d-f304-fce63c7fb54a"
      },
      "execution_count": null,
      "outputs": [
        {
          "output_type": "stream",
          "name": "stdout",
          "text": [
            "1/1 [==============================] - 1s 861ms/step\n",
            "Validating that damage exists....\n",
            "[[2.56354e-06]]\n",
            "Validation complete - proceed to location and severity determination\n"
          ]
        }
      ]
    }
  ]
}
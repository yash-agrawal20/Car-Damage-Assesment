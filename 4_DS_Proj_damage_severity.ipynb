{
  "nbformat": 4,
  "nbformat_minor": 0,
  "metadata": {
    "colab": {
      "provenance": []
    },
    "kernelspec": {
      "name": "python3",
      "display_name": "Python 3"
    },
    "language_info": {
      "name": "python"
    }
  },
  "cells": [
    {
      "cell_type": "code",
      "execution_count": null,
      "metadata": {
        "colab": {
          "base_uri": "https://localhost:8080/"
        },
        "id": "yF5pe2hOUDdA",
        "outputId": "712ccf3a-9785-4b3b-dfe8-461b7e2eeb70"
      },
      "outputs": [
        {
          "output_type": "stream",
          "name": "stdout",
          "text": [
            "Mounted at /content/drive\n"
          ]
        }
      ],
      "source": [
        "from google.colab import drive\n",
        "drive.mount('/content/drive')"
      ]
    },
    {
      "cell_type": "code",
      "source": [
        "import os\n",
        "import h5py\n",
        "import numpy as np\n",
        "import json\n",
        "import urllib.request\n",
        "import numpy as np\n",
        "import matplotlib.pyplot as plt\n",
        "import pandas as pd\n",
        "import seaborn as sns\n",
        "from IPython.display import Image, display, clear_output\n",
        "from sklearn.metrics import classification_report, confusion_matrix\n",
        "\n",
        "%matplotlib inline\n",
        "sns.set_style('whitegrid')"
      ],
      "metadata": {
        "id": "D4nUYxcgUM2z"
      },
      "execution_count": null,
      "outputs": []
    },
    {
      "cell_type": "code",
      "source": [
        "from keras import optimizers\n",
        "from keras import applications\n",
        "from keras.applications.vgg16 import VGG16\n",
        "from keras.models import Sequential, load_model, Model\n",
        "from keras.layers import Conv2D, MaxPooling2D, ZeroPadding2D, Activation, Dropout, Flatten, Dense, Input\n",
        "from keras.regularizers import l2, l1\n",
        "from keras.utils.np_utils import to_categorical\n",
        "from keras.callbacks import ModelCheckpoint, History\n",
        "from keras import backend as K\n",
        "from keras.utils.data_utils import get_file\n",
        "from tensorflow.keras.utils import load_img"
      ],
      "metadata": {
        "id": "l2jaynCCUUHC"
      },
      "execution_count": null,
      "outputs": []
    },
    {
      "cell_type": "code",
      "source": [
        "from tensorflow.keras.preprocessing.image import ImageDataGenerator\n",
        "from tensorflow.keras.preprocessing import image\n",
        "from tensorflow.keras.preprocessing.image import array_to_img\n",
        "from tensorflow.keras.preprocessing.image import img_to_array"
      ],
      "metadata": {
        "id": "YzsOXsRtUWiR"
      },
      "execution_count": null,
      "outputs": []
    },
    {
      "cell_type": "code",
      "source": [
        "def save_bottleneck_features():\n",
        "    datagen = ImageDataGenerator(rescale=1./255)\n",
        "    \n",
        "    model = VGG16(include_top=False, weights='imagenet')\n",
        "    \n",
        "    generator = datagen.flow_from_directory(train_data_dir, target_size=(img_width,img_height), batch_size=batch_size, class_mode=None, shuffle=False)\n",
        "    bottleneck_features_train = model.predict(generator, nb_train_samples//batch_size)\n",
        "    np.save(location+'/bottleneck_features_train.npy', bottleneck_features_train)\n",
        "    \n",
        "    generator = datagen.flow_from_directory(validation_data_dir, target_size=(img_width,img_height), batch_size=batch_size, class_mode=None, shuffle=False)\n",
        "    bottleneck_features_validation = model.predict(generator, nb_validation_samples//batch_size)\n",
        "    np.save(location+'/bottleneck_features_validation.npy', bottleneck_features_validation)"
      ],
      "metadata": {
        "id": "0IY39hUHUZcN"
      },
      "execution_count": null,
      "outputs": []
    },
    {
      "cell_type": "code",
      "source": [
        "def train_categorical_model():\n",
        "    train_data = np.load(location+'/bottleneck_features_train.npy')\n",
        "    train_labels = np.array([0]*(278) + [1]*(315) + [2]*(386))\n",
        "    train_labels = to_categorical(train_labels)\n",
        "    \n",
        "    validation_data = np.load(location+'/bottleneck_features_validation.npy')\n",
        "    validation_labels = np.array([0]*(48) + [1]*(55) + [2]*(68))\n",
        "    validation_labels = to_categorical(validation_labels)\n",
        "    \n",
        "    model = Sequential()\n",
        "    model.add(Flatten(input_shape=train_data.shape[1:]))\n",
        "    model.add(Dense(256, activation='relu'))\n",
        "    model.add(Dropout(0.5))\n",
        "    model.add(Dense(3, activation='softmax'))\n",
        "    \n",
        "    model.compile(optimizer='rmsprop', loss='categorical_crossentropy', metrics=['accuracy'])\n",
        "    \n",
        "    checkpoint = ModelCheckpoint(top_model_weights_path, monitor='val_accuracy', verbose=1, save_best_only=True, save_weights_only=True,mode='auto')\n",
        "    \n",
        "    fit = model.fit(train_data, train_labels, epochs=epochs, batch_size=batch_size, validation_data=(validation_data,validation_labels), callbacks=[checkpoint])\n",
        "        \n",
        "    with open(location+'/top_history.txt', 'w') as f:\n",
        "        json.dump(fit.history, f)\n",
        "    \n",
        "    return model,fit.history"
      ],
      "metadata": {
        "id": "X_VqmgJ0UhEs"
      },
      "execution_count": null,
      "outputs": []
    },
    {
      "cell_type": "code",
      "source": [
        "def finetune_categorical_model():\n",
        "    input_tensor = Input(shape=(256,256,3))\n",
        "    base_model = VGG16(weights='imagenet',include_top= False,input_tensor=input_tensor)\n",
        "    print(\"Model loaded.\")\n",
        "    top_model = Sequential()\n",
        "    top_model.add(Flatten(input_shape=base_model.output_shape[1:]))\n",
        "    top_model.add(Dense(256, activation='relu'))\n",
        "    top_model.add(Dropout(0.5))\n",
        "    top_model.add(Dense(3, activation='softmax'))\n",
        "    \n",
        "    top_model.load_weights(top_model_weights_path)\n",
        "    \n",
        "    model = Model(inputs=base_model.input, outputs=top_model(base_model.output))\n",
        "    \n",
        "    for layer in model.layers[:25]:\n",
        "        layer.trainable = False\n",
        "    \n",
        "    model.compile(loss='categorical_crossentropy', optimizer=optimizers.SGD(lr=0.00001, momentum=0.9), metrics=['accuracy'])\n",
        "    \n",
        "    train_datagen = ImageDataGenerator(rescale=1./255, shear_range=0.2, zoom_range=0.2, horizontal_flip=True)\n",
        "    \n",
        "    test_datagen = ImageDataGenerator(rescale=1./255)\n",
        "    \n",
        "    train_generator = train_datagen.flow_from_directory(train_data_dir, target_size=(img_height, img_width), batch_size=batch_size, class_mode='categorical')\n",
        "    \n",
        "    validation_generator = test_datagen.flow_from_directory(validation_data_dir, target_size=(img_height, img_width), batch_size=batch_size, class_mode='categorical')\n",
        "    \n",
        "    checkpoint = ModelCheckpoint(fine_tuned_model_path, monitor='val_accuracy', verbose=1, save_best_only=True, save_weights_only=False, mode='auto')\n",
        "    \n",
        "    fit = model.fit_generator(train_generator, steps_per_epoch=nb_train_samples//batch_size, epochs=epochs, validation_data=validation_generator, validation_steps=nb_validation_samples//batch_size, verbose=1, callbacks=[checkpoint])\n",
        "    \n",
        "    with open(location+'/ft_history.txt', 'w') as f:\n",
        "        json.dump(fit.history, f)\n",
        "        \n",
        "    return model, fit.history"
      ],
      "metadata": {
        "id": "mu3dG0bPU8Tu"
      },
      "execution_count": null,
      "outputs": []
    },
    {
      "cell_type": "code",
      "source": [
        "def print_best_model_results(model_hist):\n",
        "    best_epoch = np.argmax(model_hist['val_accuracy'])\n",
        "    print('epoch:', best_epoch+1, \\\n",
        "    ', val_accuracy:', model_hist['val_accuracy'][best_epoch], \\\n",
        "    ', val_loss:', model_hist['val_loss'][best_epoch])"
      ],
      "metadata": {
        "id": "kxZUp3-SVBiG"
      },
      "execution_count": null,
      "outputs": []
    },
    {
      "cell_type": "code",
      "source": [
        "def plot_metrics(hist, stop=50):\n",
        "    fig, axes = plt.subplots(nrows=1, ncols=2, figsize=(10,4))\n",
        "                            \n",
        "    axes = axes.flatten()\n",
        "\n",
        "    axes[0].plot(range(stop), hist['accuracy'], label='Training', color='#FF533D')\n",
        "    axes[0].plot(range(stop), hist['val_accuracy'], label='Validation', color='#03507E')\n",
        "    axes[0].set_title('Accuracy')\n",
        "    axes[0].set_ylabel('Accuracy')\n",
        "    axes[0].set_xlabel('Epoch')\n",
        "    axes[0].legend(loc='lower right')\n",
        "                             \n",
        "    axes[1].plot(range(stop), hist['loss'], label='Training', color='#FF533D')\n",
        "    axes[1].plot(range(stop), hist['val_loss'], label='Validation', color='#03507E')\n",
        "    axes[1].set_title('Loss')\n",
        "    axes[1].set_ylabel('Loss')\n",
        "    axes[1].set_xlabel('Epoch')\n",
        "    axes[1].legend(loc='upper right')\n",
        "                             \n",
        "    plt.tight_layout();\n",
        "    \n",
        "    print(\"Best Model:\") \n",
        "    print_best_model_results(hist)"
      ],
      "metadata": {
        "id": "AOwOnLpIVHU5"
      },
      "execution_count": null,
      "outputs": []
    },
    {
      "cell_type": "code",
      "source": [
        "def evaluate_categorical_model(model, directory, labels):\n",
        "    datagen = ImageDataGenerator(rescale=1./255)\n",
        "    \n",
        "    generator = datagen.flow_from_directory(directory, target_size=(img_height,img_width), batch_size=batch_size, class_mode='categorical', shuffle=False)\n",
        "    \n",
        "    predictions = model.predict_generator(generator, len(labels))\n",
        "    \n",
        "    pred_labels = [0 if i<0.5 else 1 for i in predictions]\n",
        "    \n",
        "    print('')\n",
        "    print(classification_report(validation_labels, pred_labels))\n",
        "    print('')\n",
        "    cm = confusion_matrix(validation_labels, pred_labels)\n",
        "    return cm"
      ],
      "metadata": {
        "id": "mFuIuw86VMgV"
      },
      "execution_count": null,
      "outputs": []
    },
    {
      "cell_type": "code",
      "source": [
        "location = '/content/drive/MyDrive/DS_Project/Dataset/car-damage-dataset/data3a'\n",
        "top_model_weights_path = location+'/top_model_weights.h5'\n",
        "fine_tuned_model_path = location+'/ft_model.h5'\n",
        "\n",
        "train_data_dir = location+'/training'\n",
        "validation_data_dir = location+'/validation'\n",
        "train_samples = [len(os.listdir(train_data_dir+'/'+i)) for i in sorted(os.listdir(train_data_dir))]\n",
        "nb_train_samples = 979\n",
        "validation_samples = [len(os.listdir(validation_data_dir+'/'+i)) for i in sorted(os.listdir(validation_data_dir))]\n",
        "nb_validation_samples = 171\n",
        "\n",
        "img_width, img_height = 256,256\n",
        "#epochs = 50\n",
        "epochs = 1\n",
        "batch_size = 16"
      ],
      "metadata": {
        "id": "-nnUcJd6XL7W"
      },
      "execution_count": null,
      "outputs": []
    },
    {
      "cell_type": "code",
      "source": [
        "save_bottleneck_features()"
      ],
      "metadata": {
        "colab": {
          "base_uri": "https://localhost:8080/"
        },
        "id": "ZT_nbn6-VYvM",
        "outputId": "3dc78ea1-c974-4b0e-f7b3-881de13b29a9"
      },
      "execution_count": null,
      "outputs": [
        {
          "output_type": "stream",
          "name": "stdout",
          "text": [
            "Found 979 images belonging to 3 classes.\n",
            "62/62 [==============================] - 609s 10s/step\n",
            "Found 171 images belonging to 3 classes.\n",
            "11/11 [==============================] - 107s 10s/step\n"
          ]
        }
      ]
    },
    {
      "cell_type": "code",
      "source": [
        "d4_model, d4_history = train_categorical_model()"
      ],
      "metadata": {
        "colab": {
          "base_uri": "https://localhost:8080/"
        },
        "id": "ZjR8O-2GVbkg",
        "outputId": "4260bff2-dba4-4adf-ba87-70166bef25df"
      },
      "execution_count": null,
      "outputs": [
        {
          "output_type": "stream",
          "name": "stdout",
          "text": [
            "Epoch 1/50\n",
            "62/62 [==============================] - ETA: 0s - loss: 4.1651 - accuracy: 0.4658\n",
            "Epoch 1: val_accuracy improved from -inf to 0.53216, saving model to /content/drive/MyDrive/DS_Project/Dataset/car-damage-dataset/data3a/top_model_weights.h5\n",
            "62/62 [==============================] - 9s 129ms/step - loss: 4.1651 - accuracy: 0.4658 - val_loss: 1.1201 - val_accuracy: 0.5322\n",
            "Epoch 2/50\n",
            "62/62 [==============================] - ETA: 0s - loss: 1.2459 - accuracy: 0.5148\n",
            "Epoch 2: val_accuracy improved from 0.53216 to 0.56140, saving model to /content/drive/MyDrive/DS_Project/Dataset/car-damage-dataset/data3a/top_model_weights.h5\n",
            "62/62 [==============================] - 6s 96ms/step - loss: 1.2459 - accuracy: 0.5148 - val_loss: 1.1901 - val_accuracy: 0.5614\n",
            "Epoch 3/50\n",
            "62/62 [==============================] - ETA: 0s - loss: 0.9201 - accuracy: 0.6088\n",
            "Epoch 3: val_accuracy improved from 0.56140 to 0.59649, saving model to /content/drive/MyDrive/DS_Project/Dataset/car-damage-dataset/data3a/top_model_weights.h5\n",
            "62/62 [==============================] - 6s 97ms/step - loss: 0.9201 - accuracy: 0.6088 - val_loss: 1.2442 - val_accuracy: 0.5965\n",
            "Epoch 4/50\n",
            "62/62 [==============================] - ETA: 0s - loss: 0.8772 - accuracy: 0.6353\n",
            "Epoch 4: val_accuracy did not improve from 0.59649\n",
            "62/62 [==============================] - 6s 95ms/step - loss: 0.8772 - accuracy: 0.6353 - val_loss: 1.0238 - val_accuracy: 0.5029\n",
            "Epoch 5/50\n",
            "62/62 [==============================] - ETA: 0s - loss: 0.8407 - accuracy: 0.6915\n",
            "Epoch 5: val_accuracy improved from 0.59649 to 0.63743, saving model to /content/drive/MyDrive/DS_Project/Dataset/car-damage-dataset/data3a/top_model_weights.h5\n",
            "62/62 [==============================] - 7s 107ms/step - loss: 0.8407 - accuracy: 0.6915 - val_loss: 0.8487 - val_accuracy: 0.6374\n",
            "Epoch 6/50\n",
            "62/62 [==============================] - ETA: 0s - loss: 0.6785 - accuracy: 0.6956\n",
            "Epoch 6: val_accuracy did not improve from 0.63743\n",
            "62/62 [==============================] - 6s 90ms/step - loss: 0.6785 - accuracy: 0.6956 - val_loss: 1.2381 - val_accuracy: 0.5789\n",
            "Epoch 7/50\n",
            "62/62 [==============================] - ETA: 0s - loss: 0.6816 - accuracy: 0.7334\n",
            "Epoch 7: val_accuracy did not improve from 0.63743\n",
            "62/62 [==============================] - 7s 118ms/step - loss: 0.6816 - accuracy: 0.7334 - val_loss: 0.9466 - val_accuracy: 0.6257\n",
            "Epoch 8/50\n",
            "62/62 [==============================] - ETA: 0s - loss: 0.5757 - accuracy: 0.7773\n",
            "Epoch 8: val_accuracy did not improve from 0.63743\n",
            "62/62 [==============================] - 6s 95ms/step - loss: 0.5757 - accuracy: 0.7773 - val_loss: 0.9258 - val_accuracy: 0.5906\n",
            "Epoch 9/50\n",
            "62/62 [==============================] - ETA: 0s - loss: 0.6527 - accuracy: 0.7824\n",
            "Epoch 9: val_accuracy did not improve from 0.63743\n",
            "62/62 [==============================] - 6s 90ms/step - loss: 0.6527 - accuracy: 0.7824 - val_loss: 1.7212 - val_accuracy: 0.6140\n",
            "Epoch 10/50\n",
            "62/62 [==============================] - ETA: 0s - loss: 0.5516 - accuracy: 0.8233\n",
            "Epoch 10: val_accuracy did not improve from 0.63743\n",
            "62/62 [==============================] - 6s 94ms/step - loss: 0.5516 - accuracy: 0.8233 - val_loss: 1.6574 - val_accuracy: 0.6023\n",
            "Epoch 11/50\n",
            "62/62 [==============================] - ETA: 0s - loss: 0.4408 - accuracy: 0.8325\n",
            "Epoch 11: val_accuracy did not improve from 0.63743\n",
            "62/62 [==============================] - 6s 95ms/step - loss: 0.4408 - accuracy: 0.8325 - val_loss: 1.4815 - val_accuracy: 0.5614\n",
            "Epoch 12/50\n",
            "62/62 [==============================] - ETA: 0s - loss: 0.4466 - accuracy: 0.8274\n",
            "Epoch 12: val_accuracy improved from 0.63743 to 0.65497, saving model to /content/drive/MyDrive/DS_Project/Dataset/car-damage-dataset/data3a/top_model_weights.h5\n",
            "62/62 [==============================] - 6s 103ms/step - loss: 0.4466 - accuracy: 0.8274 - val_loss: 1.3831 - val_accuracy: 0.6550\n",
            "Epoch 13/50\n",
            "62/62 [==============================] - ETA: 0s - loss: 0.3653 - accuracy: 0.8652\n",
            "Epoch 13: val_accuracy did not improve from 0.65497\n",
            "62/62 [==============================] - 6s 94ms/step - loss: 0.3653 - accuracy: 0.8652 - val_loss: 2.7692 - val_accuracy: 0.6023\n",
            "Epoch 14/50\n",
            "62/62 [==============================] - ETA: 0s - loss: 0.3436 - accuracy: 0.8927\n",
            "Epoch 14: val_accuracy did not improve from 0.65497\n",
            "62/62 [==============================] - 6s 95ms/step - loss: 0.3436 - accuracy: 0.8927 - val_loss: 1.3191 - val_accuracy: 0.6257\n",
            "Epoch 15/50\n",
            "62/62 [==============================] - ETA: 0s - loss: 0.3849 - accuracy: 0.8590\n",
            "Epoch 15: val_accuracy did not improve from 0.65497\n",
            "62/62 [==============================] - 7s 115ms/step - loss: 0.3849 - accuracy: 0.8590 - val_loss: 1.4533 - val_accuracy: 0.6257\n",
            "Epoch 16/50\n",
            "62/62 [==============================] - ETA: 0s - loss: 0.4040 - accuracy: 0.8876\n",
            "Epoch 16: val_accuracy did not improve from 0.65497\n",
            "62/62 [==============================] - 6s 95ms/step - loss: 0.4040 - accuracy: 0.8876 - val_loss: 1.7214 - val_accuracy: 0.6257\n",
            "Epoch 17/50\n",
            "62/62 [==============================] - ETA: 0s - loss: 0.3065 - accuracy: 0.8968\n",
            "Epoch 17: val_accuracy did not improve from 0.65497\n",
            "62/62 [==============================] - 6s 94ms/step - loss: 0.3065 - accuracy: 0.8968 - val_loss: 1.5609 - val_accuracy: 0.6257\n",
            "Epoch 18/50\n",
            "62/62 [==============================] - ETA: 0s - loss: 0.2816 - accuracy: 0.8876\n",
            "Epoch 18: val_accuracy did not improve from 0.65497\n",
            "62/62 [==============================] - 6s 95ms/step - loss: 0.2816 - accuracy: 0.8876 - val_loss: 1.6003 - val_accuracy: 0.6082\n",
            "Epoch 19/50\n",
            "62/62 [==============================] - ETA: 0s - loss: 0.2328 - accuracy: 0.9183\n",
            "Epoch 19: val_accuracy did not improve from 0.65497\n",
            "62/62 [==============================] - 6s 95ms/step - loss: 0.2328 - accuracy: 0.9183 - val_loss: 1.8287 - val_accuracy: 0.6491\n",
            "Epoch 20/50\n",
            "62/62 [==============================] - ETA: 0s - loss: 0.2165 - accuracy: 0.9244\n",
            "Epoch 20: val_accuracy did not improve from 0.65497\n",
            "62/62 [==============================] - 6s 95ms/step - loss: 0.2165 - accuracy: 0.9244 - val_loss: 2.4328 - val_accuracy: 0.6257\n",
            "Epoch 21/50\n",
            "62/62 [==============================] - ETA: 0s - loss: 0.2818 - accuracy: 0.9183\n",
            "Epoch 21: val_accuracy did not improve from 0.65497\n",
            "62/62 [==============================] - 6s 96ms/step - loss: 0.2818 - accuracy: 0.9183 - val_loss: 2.2728 - val_accuracy: 0.6199\n",
            "Epoch 22/50\n",
            "62/62 [==============================] - ETA: 0s - loss: 0.2106 - accuracy: 0.9275\n",
            "Epoch 22: val_accuracy did not improve from 0.65497\n",
            "62/62 [==============================] - 6s 91ms/step - loss: 0.2106 - accuracy: 0.9275 - val_loss: 2.8919 - val_accuracy: 0.6199\n",
            "Epoch 23/50\n",
            "62/62 [==============================] - ETA: 0s - loss: 0.1956 - accuracy: 0.9254\n",
            "Epoch 23: val_accuracy did not improve from 0.65497\n",
            "62/62 [==============================] - 6s 104ms/step - loss: 0.1956 - accuracy: 0.9254 - val_loss: 3.1531 - val_accuracy: 0.6199\n",
            "Epoch 24/50\n",
            "62/62 [==============================] - ETA: 0s - loss: 0.2322 - accuracy: 0.9326\n",
            "Epoch 24: val_accuracy did not improve from 0.65497\n",
            "62/62 [==============================] - 7s 107ms/step - loss: 0.2322 - accuracy: 0.9326 - val_loss: 2.0284 - val_accuracy: 0.6257\n",
            "Epoch 25/50\n",
            "62/62 [==============================] - ETA: 0s - loss: 0.1619 - accuracy: 0.9448\n",
            "Epoch 25: val_accuracy did not improve from 0.65497\n",
            "62/62 [==============================] - 6s 95ms/step - loss: 0.1619 - accuracy: 0.9448 - val_loss: 2.5307 - val_accuracy: 0.6199\n",
            "Epoch 26/50\n",
            "62/62 [==============================] - ETA: 0s - loss: 0.2222 - accuracy: 0.9275\n",
            "Epoch 26: val_accuracy did not improve from 0.65497\n",
            "62/62 [==============================] - 6s 96ms/step - loss: 0.2222 - accuracy: 0.9275 - val_loss: 2.3625 - val_accuracy: 0.6082\n",
            "Epoch 27/50\n",
            "62/62 [==============================] - ETA: 0s - loss: 0.1126 - accuracy: 0.9663\n",
            "Epoch 27: val_accuracy did not improve from 0.65497\n",
            "62/62 [==============================] - 6s 95ms/step - loss: 0.1126 - accuracy: 0.9663 - val_loss: 2.7186 - val_accuracy: 0.5965\n",
            "Epoch 28/50\n",
            "62/62 [==============================] - ETA: 0s - loss: 0.1912 - accuracy: 0.9438\n",
            "Epoch 28: val_accuracy did not improve from 0.65497\n",
            "62/62 [==============================] - 6s 96ms/step - loss: 0.1912 - accuracy: 0.9438 - val_loss: 2.3032 - val_accuracy: 0.5848\n",
            "Epoch 29/50\n",
            "62/62 [==============================] - ETA: 0s - loss: 0.1678 - accuracy: 0.9530\n",
            "Epoch 29: val_accuracy did not improve from 0.65497\n",
            "62/62 [==============================] - 6s 96ms/step - loss: 0.1678 - accuracy: 0.9530 - val_loss: 2.7339 - val_accuracy: 0.5906\n",
            "Epoch 30/50\n",
            "62/62 [==============================] - ETA: 0s - loss: 0.1066 - accuracy: 0.9663\n",
            "Epoch 30: val_accuracy did not improve from 0.65497\n",
            "62/62 [==============================] - 6s 95ms/step - loss: 0.1066 - accuracy: 0.9663 - val_loss: 3.2884 - val_accuracy: 0.5906\n",
            "Epoch 31/50\n",
            "62/62 [==============================] - ETA: 0s - loss: 0.2147 - accuracy: 0.9408\n",
            "Epoch 31: val_accuracy did not improve from 0.65497\n",
            "62/62 [==============================] - 6s 95ms/step - loss: 0.2147 - accuracy: 0.9408 - val_loss: 2.8261 - val_accuracy: 0.6199\n",
            "Epoch 32/50\n",
            "62/62 [==============================] - ETA: 0s - loss: 0.1589 - accuracy: 0.9499\n",
            "Epoch 32: val_accuracy did not improve from 0.65497\n",
            "62/62 [==============================] - 7s 115ms/step - loss: 0.1589 - accuracy: 0.9499 - val_loss: 3.0577 - val_accuracy: 0.5965\n",
            "Epoch 33/50\n",
            "62/62 [==============================] - ETA: 0s - loss: 0.1403 - accuracy: 0.9673\n",
            "Epoch 33: val_accuracy did not improve from 0.65497\n",
            "62/62 [==============================] - 6s 95ms/step - loss: 0.1403 - accuracy: 0.9673 - val_loss: 2.7950 - val_accuracy: 0.6257\n",
            "Epoch 34/50\n",
            "62/62 [==============================] - ETA: 0s - loss: 0.1432 - accuracy: 0.9632\n",
            "Epoch 34: val_accuracy did not improve from 0.65497\n",
            "62/62 [==============================] - 6s 95ms/step - loss: 0.1432 - accuracy: 0.9632 - val_loss: 2.8747 - val_accuracy: 0.6140\n",
            "Epoch 35/50\n",
            "62/62 [==============================] - ETA: 0s - loss: 0.1931 - accuracy: 0.9551\n",
            "Epoch 35: val_accuracy did not improve from 0.65497\n",
            "62/62 [==============================] - 6s 95ms/step - loss: 0.1931 - accuracy: 0.9551 - val_loss: 3.0936 - val_accuracy: 0.6257\n",
            "Epoch 36/50\n",
            "62/62 [==============================] - ETA: 0s - loss: 0.1863 - accuracy: 0.9520\n",
            "Epoch 36: val_accuracy did not improve from 0.65497\n",
            "62/62 [==============================] - 6s 96ms/step - loss: 0.1863 - accuracy: 0.9520 - val_loss: 3.1486 - val_accuracy: 0.5848\n",
            "Epoch 37/50\n",
            "62/62 [==============================] - ETA: 0s - loss: 0.1537 - accuracy: 0.9642\n",
            "Epoch 37: val_accuracy did not improve from 0.65497\n",
            "62/62 [==============================] - 6s 94ms/step - loss: 0.1537 - accuracy: 0.9642 - val_loss: 4.9580 - val_accuracy: 0.6140\n",
            "Epoch 38/50\n",
            "62/62 [==============================] - ETA: 0s - loss: 0.1255 - accuracy: 0.9632\n",
            "Epoch 38: val_accuracy did not improve from 0.65497\n",
            "62/62 [==============================] - 6s 91ms/step - loss: 0.1255 - accuracy: 0.9632 - val_loss: 3.1676 - val_accuracy: 0.5965\n",
            "Epoch 39/50\n",
            "62/62 [==============================] - ETA: 0s - loss: 0.1516 - accuracy: 0.9653\n",
            "Epoch 39: val_accuracy did not improve from 0.65497\n",
            "62/62 [==============================] - 6s 96ms/step - loss: 0.1516 - accuracy: 0.9653 - val_loss: 3.5912 - val_accuracy: 0.5965\n",
            "Epoch 40/50\n",
            "62/62 [==============================] - ETA: 0s - loss: 0.1133 - accuracy: 0.9704\n",
            "Epoch 40: val_accuracy did not improve from 0.65497\n",
            "62/62 [==============================] - 7s 111ms/step - loss: 0.1133 - accuracy: 0.9704 - val_loss: 3.3586 - val_accuracy: 0.6023\n",
            "Epoch 41/50\n",
            "62/62 [==============================] - ETA: 0s - loss: 0.0920 - accuracy: 0.9724\n",
            "Epoch 41: val_accuracy did not improve from 0.65497\n",
            "62/62 [==============================] - 6s 101ms/step - loss: 0.0920 - accuracy: 0.9724 - val_loss: 3.2664 - val_accuracy: 0.5848\n",
            "Epoch 42/50\n",
            "62/62 [==============================] - ETA: 0s - loss: 0.1154 - accuracy: 0.9663\n",
            "Epoch 42: val_accuracy did not improve from 0.65497\n",
            "62/62 [==============================] - 6s 96ms/step - loss: 0.1154 - accuracy: 0.9663 - val_loss: 3.1917 - val_accuracy: 0.5965\n",
            "Epoch 43/50\n",
            "62/62 [==============================] - ETA: 0s - loss: 0.1020 - accuracy: 0.9673\n",
            "Epoch 43: val_accuracy did not improve from 0.65497\n",
            "62/62 [==============================] - 6s 96ms/step - loss: 0.1020 - accuracy: 0.9673 - val_loss: 3.4565 - val_accuracy: 0.5906\n",
            "Epoch 44/50\n",
            "62/62 [==============================] - ETA: 0s - loss: 0.1798 - accuracy: 0.9612\n",
            "Epoch 44: val_accuracy did not improve from 0.65497\n",
            "62/62 [==============================] - 6s 96ms/step - loss: 0.1798 - accuracy: 0.9612 - val_loss: 6.0952 - val_accuracy: 0.6023\n",
            "Epoch 45/50\n",
            "62/62 [==============================] - ETA: 0s - loss: 0.1579 - accuracy: 0.9581\n",
            "Epoch 45: val_accuracy did not improve from 0.65497\n",
            "62/62 [==============================] - 6s 96ms/step - loss: 0.1579 - accuracy: 0.9581 - val_loss: 3.8431 - val_accuracy: 0.5789\n",
            "Epoch 46/50\n",
            "62/62 [==============================] - ETA: 0s - loss: 0.0988 - accuracy: 0.9765\n",
            "Epoch 46: val_accuracy did not improve from 0.65497\n",
            "62/62 [==============================] - 6s 96ms/step - loss: 0.0988 - accuracy: 0.9765 - val_loss: 4.4127 - val_accuracy: 0.5906\n",
            "Epoch 47/50\n",
            "62/62 [==============================] - ETA: 0s - loss: 0.1396 - accuracy: 0.9734\n",
            "Epoch 47: val_accuracy did not improve from 0.65497\n",
            "62/62 [==============================] - 6s 94ms/step - loss: 0.1396 - accuracy: 0.9734 - val_loss: 5.2924 - val_accuracy: 0.6140\n",
            "Epoch 48/50\n",
            "62/62 [==============================] - ETA: 0s - loss: 0.1148 - accuracy: 0.9673\n",
            "Epoch 48: val_accuracy did not improve from 0.65497\n",
            "62/62 [==============================] - 6s 103ms/step - loss: 0.1148 - accuracy: 0.9673 - val_loss: 4.1056 - val_accuracy: 0.5965\n",
            "Epoch 49/50\n",
            "62/62 [==============================] - ETA: 0s - loss: 0.1367 - accuracy: 0.9704\n",
            "Epoch 49: val_accuracy did not improve from 0.65497\n",
            "62/62 [==============================] - 7s 106ms/step - loss: 0.1367 - accuracy: 0.9704 - val_loss: 3.3275 - val_accuracy: 0.5965\n",
            "Epoch 50/50\n",
            "62/62 [==============================] - ETA: 0s - loss: 0.1444 - accuracy: 0.9653\n",
            "Epoch 50: val_accuracy did not improve from 0.65497\n",
            "62/62 [==============================] - 6s 96ms/step - loss: 0.1444 - accuracy: 0.9653 - val_loss: 4.4479 - val_accuracy: 0.6082\n"
          ]
        }
      ]
    },
    {
      "cell_type": "code",
      "source": [
        "plot_metrics(d4_history)"
      ],
      "metadata": {
        "colab": {
          "base_uri": "https://localhost:8080/",
          "height": 332
        },
        "id": "3mNsolJ8VdPp",
        "outputId": "a9bc5600-fe88-472e-abbc-4c1fb7c77d70"
      },
      "execution_count": null,
      "outputs": [
        {
          "output_type": "stream",
          "name": "stdout",
          "text": [
            "Best Model:\n",
            "epoch: 12 , val_accuracy: 0.6549707651138306 , val_loss: 1.3831405639648438\n"
          ]
        },
        {
          "output_type": "display_data",
          "data": {
            "text/plain": [
              "<Figure size 720x288 with 2 Axes>"
            ],
            "image/png": "[encoded data removed]"
          },
          "metadata": {}
        }
      ]
    },
    {
      "cell_type": "code",
      "source": [
        "ft_model, ft_history = finetune_categorical_model()"
      ],
      "metadata": {
        "colab": {
          "base_uri": "https://localhost:8080/"
        },
        "id": "LOWA9G5jVd51",
        "outputId": "12125824-507c-4573-9817-d4a10d6e88d2"
      },
      "execution_count": null,
      "outputs": [
        {
          "output_type": "stream",
          "name": "stdout",
          "text": [
            "Model loaded.\n"
          ]
        },
        {
          "output_type": "stream",
          "name": "stderr",
          "text": [
            "/usr/local/lib/python3.7/dist-packages/keras/optimizers/optimizer_v2/gradient_descent.py:108: UserWarning: The `lr` argument is deprecated, use `learning_rate` instead.\n",
            "  super(SGD, self).__init__(name, **kwargs)\n"
          ]
        },
        {
          "output_type": "stream",
          "name": "stdout",
          "text": [
            "Found 979 images belonging to 3 classes.\n",
            "Found 171 images belonging to 3 classes.\n"
          ]
        },
        {
          "output_type": "stream",
          "name": "stderr",
          "text": [
            "/usr/local/lib/python3.7/dist-packages/ipykernel_launcher.py:30: UserWarning: `Model.fit_generator` is deprecated and will be removed in a future version. Please use `Model.fit`, which supports generators.\n"
          ]
        },
        {
          "output_type": "stream",
          "name": "stdout",
          "text": [
            "61/61 [==============================] - ETA: 0s - loss: 1.1232 - accuracy: 0.6978 \n",
            "Epoch 1: val_accuracy improved from -inf to 0.65000, saving model to /content/drive/MyDrive/DS_Project/Dataset/car-damage-dataset/data3a/ft_model.h5\n",
            "61/61 [==============================] - 766s 13s/step - loss: 1.1232 - accuracy: 0.6978 - val_loss: 1.4194 - val_accuracy: 0.6500\n"
          ]
        }
      ]
    },
    {
      "cell_type": "code",
      "source": [
        "ft_model = load_model('/content/drive/MyDrive/DS_Project/Dataset/car-damage-dataset/data3a/ft_model.h5')"
      ],
      "metadata": {
        "id": "JcV8SlFdWRbK"
      },
      "execution_count": null,
      "outputs": []
    },
    {
      "cell_type": "code",
      "source": [
        "def pipe4(image_path, model):\n",
        "    urllib.request.urlretrieve(image_path, 'save.jpg')\n",
        "    img = load_img('save.jpg', target_size=(256,256))\n",
        "    x = img_to_array(img)\n",
        "    x = x.reshape((1,)+x.shape)/255\n",
        "    pred = model.predict(x)\n",
        "    pred_labels = np.argmax(pred, axis=1)\n",
        "    d = {0:'minor', 1:'moderate', 2:'severe'}\n",
        "    for key in d.keys():\n",
        "        if pred_labels[0] == key:\n",
        "            print(\"Validating severity of damage....Result:\",d[key])\n",
        "    print(\"Severity assessment complete.\")"
      ],
      "metadata": {
        "id": "tk41nSgpWTep"
      },
      "execution_count": null,
      "outputs": []
    },
    {
      "cell_type": "code",
      "source": [
        "pipe4('https://media.istockphoto.com/id/465663510/photo/body-of-car-get-damage-by-accident.jpg?s=612x612&w=0&k=20&c=ltAHdcFKBYJgurn9AqirfPUH0FPAstbz5xIuxFTxUto=', ft_model)"
      ],
      "metadata": {
        "colab": {
          "base_uri": "https://localhost:8080/"
        },
        "id": "uRgWdTPLWZhX",
        "outputId": "f2d8f1d4-e0a6-47c7-927f-8183116d5346"
      },
      "execution_count": null,
      "outputs": [
        {
          "output_type": "stream",
          "name": "stdout",
          "text": [
            "1/1 [==============================] - 1s 781ms/step\n",
            "Validating severity of damage....Result: moderate\n",
            "Severity assessment complete.\n"
          ]
        }
      ]
    }
  ]
}
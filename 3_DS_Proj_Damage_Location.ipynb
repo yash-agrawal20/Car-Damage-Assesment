{
  "nbformat": 4,
  "nbformat_minor": 0,
  "metadata": {
    "colab": {
      "provenance": []
    },
    "kernelspec": {
      "name": "python3",
      "display_name": "Python 3"
    },
    "language_info": {
      "name": "python"
    }
  },
  "cells": [
    {
      "cell_type": "code",
      "execution_count": null,
      "metadata": {
        "colab": {
          "base_uri": "https://localhost:8080/"
        },
        "id": "AJMykNxgtPJu",
        "outputId": "6bea96ce-1bc5-47e5-dd8d-9efdf31e3299"
      },
      "outputs": [
        {
          "output_type": "stream",
          "name": "stdout",
          "text": [
            "Mounted at /content/drive\n"
          ]
        }
      ],
      "source": [
        "from google.colab import drive\n",
        "drive.mount('/content/drive')"
      ]
    },
    {
      "cell_type": "code",
      "source": [
        "import os\n",
        "import h5py\n",
        "import numpy as np\n",
        "import json\n",
        "import urllib.request\n",
        "import numpy as np\n",
        "import matplotlib.pyplot as plt\n",
        "import pandas as pd\n",
        "import seaborn as sns\n",
        "from IPython.display import Image, display, clear_output\n",
        "from sklearn.metrics import classification_report, confusion_matrix\n",
        "\n",
        "%matplotlib inline\n",
        "sns.set_style('whitegrid')"
      ],
      "metadata": {
        "id": "_wyr_8B7tWl_"
      },
      "execution_count": null,
      "outputs": []
    },
    {
      "cell_type": "code",
      "source": [
        "from keras import optimizers\n",
        "from keras import applications\n",
        "from keras.applications.vgg16 import VGG16\n",
        "from keras.models import Sequential, load_model, Model\n",
        "from keras.layers import Conv2D, MaxPooling2D, ZeroPadding2D, Activation, Dropout, Flatten, Dense, Input\n",
        "from keras.regularizers import l2, l1\n",
        "from keras.utils.np_utils import to_categorical\n",
        "from keras.callbacks import ModelCheckpoint, History\n",
        "from keras import backend as K\n",
        "from keras.utils.data_utils import get_file\n",
        "from tensorflow.keras.utils import load_img"
      ],
      "metadata": {
        "id": "56kxOTYMtZfg"
      },
      "execution_count": null,
      "outputs": []
    },
    {
      "cell_type": "code",
      "source": [
        "from tensorflow.keras.preprocessing.image import ImageDataGenerator\n",
        "from tensorflow.keras.preprocessing import image\n",
        "from tensorflow.keras.preprocessing.image import array_to_img\n",
        "from tensorflow.keras.preprocessing.image import img_to_array"
      ],
      "metadata": {
        "id": "o-A83tS-tce0"
      },
      "execution_count": null,
      "outputs": []
    },
    {
      "cell_type": "code",
      "source": [
        "def save_bottleneck_features():\n",
        "    datagen = ImageDataGenerator(rescale=1./255)\n",
        "    \n",
        "    model = VGG16(include_top=False, weights='imagenet')\n",
        "    \n",
        "    generator = datagen.flow_from_directory(train_data_dir, target_size=(img_width, img_height), batch_size=batch_size, class_mode=None, shuffle=False)\n",
        "    bottleneck_features_train = model.predict(generator, nb_train_samples // batch_size)\n",
        "    np.save(location+'/bottleneck_features_train.npy', bottleneck_features_train)\n",
        "    \n",
        "    generator = datagen.flow_from_directory(validation_data_dir, target_size=(img_width, img_height), batch_size=batch_size, class_mode=None, shuffle=False)\n",
        "    bottleneck_features_validation = model.predict(generator, nb_validation_samples // batch_size)\n",
        "    np.save(location+'/bottleneck_features_validation.npy', bottleneck_features_validation)"
      ],
      "metadata": {
        "id": "6C1Eu07fte8Z"
      },
      "execution_count": null,
      "outputs": []
    },
    {
      "cell_type": "code",
      "source": [
        "def print_best_model_results(model_hist):\n",
        "    best_epoch = np.argmax(model_hist['val_accuracy'])\n",
        "    print('epoch:', best_epoch+1, \\\n",
        "    ', val_accuracy:', model_hist['val_accuracy'][best_epoch], \\\n",
        "    ', val_loss:', model_hist['val_loss'][best_epoch])"
      ],
      "metadata": {
        "id": "hmYd9-_rttw1"
      },
      "execution_count": null,
      "outputs": []
    },
    {
      "cell_type": "code",
      "source": [
        "def plot_metrics(hist, stop=50):\n",
        "    fig, axes = plt.subplots(nrows=1, ncols=2, figsize=(10,4))\n",
        "                            \n",
        "    axes = axes.flatten()\n",
        "\n",
        "    axes[0].plot(range(stop), hist['accuracy'], label='Training', color='#FF533D')\n",
        "    axes[0].plot(range(stop), hist['val_accuracy'], label='Validation', color='#03507E')\n",
        "    axes[0].set_title('Accuracy')\n",
        "    axes[0].set_ylabel('Accuracy')\n",
        "    axes[0].set_xlabel('Epoch')\n",
        "    axes[0].legend(loc='lower right')\n",
        "                             \n",
        "    axes[1].plot(range(stop), hist['loss'], label='Training', color='#FF533D')\n",
        "    axes[1].plot(range(stop), hist['val_loss'], label='Validation', color='#03507E')\n",
        "    axes[1].set_title('Loss')\n",
        "    axes[1].set_ylabel('Loss')\n",
        "    axes[1].set_xlabel('Epoch')\n",
        "    axes[1].legend(loc='upper right')\n",
        "                             \n",
        "    plt.tight_layout();\n",
        "    \n",
        "    print(\"Best Model:\") \n",
        "    print_best_model_results(hist)"
      ],
      "metadata": {
        "id": "cKGDhke9uG7V"
      },
      "execution_count": null,
      "outputs": []
    },
    {
      "cell_type": "code",
      "source": [
        "def plot_acc_metrics(hist1, hist2, stop=50):\n",
        "    fig, axes = plt.subplots(nrows=2, ncols=1, figsize=(4.25,6))\n",
        "                            \n",
        "    axes = axes.flatten()\n",
        "    \n",
        "    axes[0].plot(range(stop), hist1['accuracy'], label='Training', color='#FF533D')\n",
        "    axes[0].plot(range(stop), hist1['val_accuracy'], label='Validation', color='#03507E')\n",
        "    axes[0].set_title('Training')\n",
        "    axes[0].set_ylabel('Accuracy')\n",
        "    axes[0].set_xlabel('Epoch')\n",
        "    axes[0].legend(loc='lower right')\n",
        "                             \n",
        "    axes[1].plot(range(stop), hist2['accuracy'], label='Training', color='#FF533D')\n",
        "    axes[1].plot(range(stop), hist2['val_accuracy'], label='Validation', color='#03507E')\n",
        "    axes[1].set_title('Fine-tuning')\n",
        "    axes[1].set_ylabel('Accuracy')\n",
        "    axes[1].set_xlabel('Epoch')\n",
        "    axes[1].legend(loc='lower right')\n",
        "                             \n",
        "    plt.tight_layout();"
      ],
      "metadata": {
        "id": "l-2ar4vvuPr8"
      },
      "execution_count": null,
      "outputs": []
    },
    {
      "cell_type": "code",
      "source": [
        "def train_categorical_model():\n",
        "    train_data = np.load(location+'/bottleneck_features_train.npy')\n",
        "    train_labels = np.array([0]*(419) + [1]*(288) + [2]*(272))\n",
        "    train_labels = to_categorical(train_labels)\n",
        "    \n",
        "    validation_data = np.load(location+'/bottleneck_features_validation.npy')\n",
        "    validation_labels = np.array([0]*(73) + [1]*(50) + [2]*(48))\n",
        "    validation_labels = to_categorical(validation_labels)\n",
        "    \n",
        "    model = Sequential()\n",
        "    model.add(Flatten(input_shape=train_data.shape[1:]))\n",
        "    model.add(Dense(256, activation='relu'))\n",
        "    model.add(Dropout(0.5))\n",
        "    model.add(Dense(3, activation='softmax'))\n",
        "    \n",
        "    model.compile(optimizer='rmsprop', loss='categorical_crossentropy', metrics=['accuracy'])\n",
        "    \n",
        "    checkpoint = ModelCheckpoint(top_model_weights_path, monitor='val_accuracy', verbose=1, save_best_only=True, save_weights_only=True,mode='auto')\n",
        "    \n",
        "    fit = model.fit(train_data, train_labels, epochs=epochs, batch_size=batch_size, validation_data=(validation_data,validation_labels), callbacks=[checkpoint])\n",
        "        \n",
        "    with open(location+'/top_history.txt', 'w') as f:\n",
        "        json.dump(fit.history, f)\n",
        "    \n",
        "    return model,fit.history"
      ],
      "metadata": {
        "id": "X31q3GMZuTc9"
      },
      "execution_count": null,
      "outputs": []
    },
    {
      "cell_type": "code",
      "source": [
        "def finetune_categorical_model():\n",
        "    input_tensor = Input(shape=(256,256,3))\n",
        "    base_model = VGG16(weights='imagenet',include_top= False,input_tensor=input_tensor)\n",
        "    print(\"Model loaded.\")\n",
        "    top_model = Sequential()\n",
        "    top_model.add(Flatten(input_shape=base_model.output_shape[1:]))\n",
        "    top_model.add(Dense(256, activation='relu'))\n",
        "    top_model.add(Dropout(0.5))\n",
        "    top_model.add(Dense(3, activation='softmax'))\n",
        "    \n",
        "    top_model.load_weights(top_model_weights_path)\n",
        "    \n",
        "    model = Model(inputs=base_model.input, outputs=top_model(base_model.output))\n",
        "    \n",
        "    for layer in model.layers[:25]:\n",
        "        layer.trainable = False\n",
        "    \n",
        "    model.compile(loss='categorical_crossentropy', optimizer=optimizers.SGD(lr=0.00001, momentum=0.9), metrics=['accuracy'])\n",
        "    \n",
        "    train_datagen = ImageDataGenerator(rescale=1./255, shear_range=0.2, zoom_range=0.2, horizontal_flip=True)\n",
        "    \n",
        "    test_datagen = ImageDataGenerator(rescale=1./255)\n",
        "    \n",
        "    train_generator = train_datagen.flow_from_directory(train_data_dir, target_size=(img_height, img_width), batch_size=batch_size, class_mode='categorical')\n",
        "    \n",
        "    validation_generator = test_datagen.flow_from_directory(validation_data_dir, target_size=(img_height, img_width), batch_size=batch_size, class_mode='categorical')\n",
        "    \n",
        "    checkpoint = ModelCheckpoint(fine_tuned_model_path, monitor='val_accuracy', verbose=1, save_best_only=True, save_weights_only=False, mode='auto')\n",
        "    \n",
        "    fit = model.fit_generator(train_generator, steps_per_epoch=nb_train_samples//batch_size, epochs=epochs, validation_data=validation_generator, validation_steps=nb_validation_samples//batch_size, verbose=1, callbacks=[checkpoint])\n",
        "    \n",
        "    with open(location+'/ft_history.txt', 'w') as f:\n",
        "        json.dump(fit.history, f)\n",
        "        \n",
        "    return model, fit.history"
      ],
      "metadata": {
        "id": "kdkDNwveuge3"
      },
      "execution_count": null,
      "outputs": []
    },
    {
      "cell_type": "code",
      "source": [
        "def evaluate_categorical_model(model, directory, labels):\n",
        "    datagen = ImageDataGenerator(rescale=1./255)\n",
        "    \n",
        "    generator = datagen.flow_from_directory(directory, target_size=(img_height,img_width), batch_size=batch_size, class_mode='categorical', shuffle=False)\n",
        "    \n",
        "    predictions = model.predict_generator(generator, len(labels))\n",
        "    \n",
        "    pred_labels = [0 if i<0.5 else 1 for i in predictions]\n",
        "    \n",
        "    print('')\n",
        "    print(classification_report(validation_labels, pred_labels))\n",
        "    print('')\n",
        "    cm = confusion_matrix(validation_labels, pred_labels)\n",
        "    return cm"
      ],
      "metadata": {
        "id": "yBS2nkCouoYH"
      },
      "execution_count": null,
      "outputs": []
    },
    {
      "cell_type": "code",
      "source": [
        "#Input Image Details"
      ],
      "metadata": {
        "id": "z6NR6u_qur0w"
      },
      "execution_count": null,
      "outputs": []
    },
    {
      "cell_type": "code",
      "source": [
        "location = '/content/drive/MyDrive/DS_Project/Dataset/car-damage-dataset/data2a'\n",
        "top_model_weights_path = location+'/top_model_weights.h5'\n",
        "fine_tuned_model_path = location+'/ft_model.h5'\n",
        "\n",
        "train_data_dir = location+'/training'\n",
        "validation_data_dir = location+'/validation'\n",
        "train_samples = [len(os.listdir(train_data_dir+'/'+i)) for i in sorted(os.listdir(train_data_dir))]\n",
        "nb_train_samples = 979\n",
        "validation_samples = [len(os.listdir(validation_data_dir+'/'+i)) for i in sorted(os.listdir(validation_data_dir))]\n",
        "nb_validation_samples = 171\n",
        "\n",
        "img_width, img_height = 256,256\n",
        "#epochs = 50\n",
        "epochs = 1\n",
        "batch_size = 16"
      ],
      "metadata": {
        "id": "VnKuT5aJuy5m"
      },
      "execution_count": null,
      "outputs": []
    },
    {
      "cell_type": "code",
      "source": [
        "save_bottleneck_features()"
      ],
      "metadata": {
        "colab": {
          "base_uri": "https://localhost:8080/"
        },
        "id": "7yiprYXGu8Y6",
        "outputId": "864751bc-3373-41e5-980b-0342d9016ec6"
      },
      "execution_count": null,
      "outputs": [
        {
          "output_type": "stream",
          "name": "stdout",
          "text": [
            "Found 979 images belonging to 3 classes.\n",
            "62/62 [==============================] - 688s 11s/step\n",
            "Found 171 images belonging to 3 classes.\n",
            "11/11 [==============================] - 121s 11s/step\n"
          ]
        }
      ]
    },
    {
      "cell_type": "code",
      "source": [
        "d3_model, d3_history = train_categorical_model()"
      ],
      "metadata": {
        "colab": {
          "base_uri": "https://localhost:8080/"
        },
        "id": "70MFTjYLu_kQ",
        "outputId": "57fa3ff8-1f79-44a9-ecdb-75c3dbebf2b2"
      },
      "execution_count": null,
      "outputs": [
        {
          "output_type": "stream",
          "name": "stdout",
          "text": [
            "Epoch 1/50\n",
            "62/62 [==============================] - ETA: 0s - loss: 4.7583 - accuracy: 0.3994\n",
            "Epoch 1: val_accuracy improved from -inf to 0.49708, saving model to /content/drive/MyDrive/DS_Project/Dataset/car-damage-dataset/data2a/top_model_weights.h5\n",
            "62/62 [==============================] - 6s 83ms/step - loss: 4.7583 - accuracy: 0.3994 - val_loss: 0.9841 - val_accuracy: 0.4971\n",
            "Epoch 2/50\n",
            "62/62 [==============================] - ETA: 0s - loss: 1.3606 - accuracy: 0.4821\n",
            "Epoch 2: val_accuracy did not improve from 0.49708\n",
            "62/62 [==============================] - 5s 79ms/step - loss: 1.3606 - accuracy: 0.4821 - val_loss: 1.1202 - val_accuracy: 0.4912\n",
            "Epoch 3/50\n",
            "62/62 [==============================] - ETA: 0s - loss: 1.0647 - accuracy: 0.5465\n",
            "Epoch 3: val_accuracy improved from 0.49708 to 0.62573, saving model to /content/drive/MyDrive/DS_Project/Dataset/car-damage-dataset/data2a/top_model_weights.h5\n",
            "62/62 [==============================] - 6s 89ms/step - loss: 1.0647 - accuracy: 0.5465 - val_loss: 0.8389 - val_accuracy: 0.6257\n",
            "Epoch 4/50\n",
            "62/62 [==============================] - ETA: 0s - loss: 0.9123 - accuracy: 0.6037\n",
            "Epoch 4: val_accuracy did not improve from 0.62573\n",
            "62/62 [==============================] - 5s 80ms/step - loss: 0.9123 - accuracy: 0.6037 - val_loss: 1.2404 - val_accuracy: 0.4737\n",
            "Epoch 5/50\n",
            "62/62 [==============================] - ETA: 0s - loss: 0.9631 - accuracy: 0.6384\n",
            "Epoch 5: val_accuracy did not improve from 0.62573\n",
            "62/62 [==============================] - 5s 81ms/step - loss: 0.9631 - accuracy: 0.6384 - val_loss: 1.2632 - val_accuracy: 0.5614\n",
            "Epoch 6/50\n",
            "62/62 [==============================] - ETA: 0s - loss: 0.9559 - accuracy: 0.6578\n",
            "Epoch 6: val_accuracy improved from 0.62573 to 0.66667, saving model to /content/drive/MyDrive/DS_Project/Dataset/car-damage-dataset/data2a/top_model_weights.h5\n",
            "62/62 [==============================] - 7s 111ms/step - loss: 0.9559 - accuracy: 0.6578 - val_loss: 0.9222 - val_accuracy: 0.6667\n",
            "Epoch 7/50\n",
            "62/62 [==============================] - ETA: 0s - loss: 0.6620 - accuracy: 0.7293\n",
            "Epoch 7: val_accuracy did not improve from 0.66667\n",
            "62/62 [==============================] - 5s 80ms/step - loss: 0.6620 - accuracy: 0.7293 - val_loss: 0.9509 - val_accuracy: 0.6257\n",
            "Epoch 8/50\n",
            "62/62 [==============================] - ETA: 0s - loss: 0.6888 - accuracy: 0.7477\n",
            "Epoch 8: val_accuracy did not improve from 0.66667\n",
            "62/62 [==============================] - 5s 80ms/step - loss: 0.6888 - accuracy: 0.7477 - val_loss: 1.1280 - val_accuracy: 0.6082\n",
            "Epoch 9/50\n",
            "62/62 [==============================] - ETA: 0s - loss: 0.6340 - accuracy: 0.7753\n",
            "Epoch 9: val_accuracy did not improve from 0.66667\n",
            "62/62 [==============================] - 5s 80ms/step - loss: 0.6340 - accuracy: 0.7753 - val_loss: 1.0134 - val_accuracy: 0.6667\n",
            "Epoch 10/50\n",
            "62/62 [==============================] - ETA: 0s - loss: 0.5330 - accuracy: 0.8080\n",
            "Epoch 10: val_accuracy improved from 0.66667 to 0.71930, saving model to /content/drive/MyDrive/DS_Project/Dataset/car-damage-dataset/data2a/top_model_weights.h5\n",
            "62/62 [==============================] - 5s 88ms/step - loss: 0.5330 - accuracy: 0.8080 - val_loss: 0.8095 - val_accuracy: 0.7193\n",
            "Epoch 11/50\n",
            "62/62 [==============================] - ETA: 0s - loss: 0.6152 - accuracy: 0.7998\n",
            "Epoch 11: val_accuracy did not improve from 0.71930\n",
            "62/62 [==============================] - 5s 81ms/step - loss: 0.6152 - accuracy: 0.7998 - val_loss: 0.8944 - val_accuracy: 0.6842\n",
            "Epoch 12/50\n",
            "62/62 [==============================] - ETA: 0s - loss: 0.5919 - accuracy: 0.8090\n",
            "Epoch 12: val_accuracy improved from 0.71930 to 0.74269, saving model to /content/drive/MyDrive/DS_Project/Dataset/car-damage-dataset/data2a/top_model_weights.h5\n",
            "62/62 [==============================] - 5s 84ms/step - loss: 0.5919 - accuracy: 0.8090 - val_loss: 0.9134 - val_accuracy: 0.7427\n",
            "Epoch 13/50\n",
            "62/62 [==============================] - ETA: 0s - loss: 0.4596 - accuracy: 0.8417\n",
            "Epoch 13: val_accuracy did not improve from 0.74269\n",
            "62/62 [==============================] - 5s 82ms/step - loss: 0.4596 - accuracy: 0.8417 - val_loss: 1.1488 - val_accuracy: 0.6667\n",
            "Epoch 14/50\n",
            "62/62 [==============================] - ETA: 0s - loss: 0.3897 - accuracy: 0.8519\n",
            "Epoch 14: val_accuracy improved from 0.74269 to 0.75439, saving model to /content/drive/MyDrive/DS_Project/Dataset/car-damage-dataset/data2a/top_model_weights.h5\n",
            "62/62 [==============================] - 6s 91ms/step - loss: 0.3897 - accuracy: 0.8519 - val_loss: 0.8798 - val_accuracy: 0.7544\n",
            "Epoch 15/50\n",
            "62/62 [==============================] - ETA: 0s - loss: 0.3306 - accuracy: 0.8774\n",
            "Epoch 15: val_accuracy did not improve from 0.75439\n",
            "62/62 [==============================] - 5s 83ms/step - loss: 0.3306 - accuracy: 0.8774 - val_loss: 1.1802 - val_accuracy: 0.6667\n",
            "Epoch 16/50\n",
            "62/62 [==============================] - ETA: 0s - loss: 0.3675 - accuracy: 0.8754\n",
            "Epoch 16: val_accuracy did not improve from 0.75439\n",
            "62/62 [==============================] - 6s 104ms/step - loss: 0.3675 - accuracy: 0.8754 - val_loss: 1.3146 - val_accuracy: 0.7135\n",
            "Epoch 17/50\n",
            "62/62 [==============================] - ETA: 0s - loss: 0.4134 - accuracy: 0.8805\n",
            "Epoch 17: val_accuracy did not improve from 0.75439\n",
            "62/62 [==============================] - 5s 79ms/step - loss: 0.4134 - accuracy: 0.8805 - val_loss: 2.5317 - val_accuracy: 0.5322\n",
            "Epoch 18/50\n",
            "62/62 [==============================] - ETA: 0s - loss: 0.3226 - accuracy: 0.9081\n",
            "Epoch 18: val_accuracy did not improve from 0.75439\n",
            "62/62 [==============================] - 5s 79ms/step - loss: 0.3226 - accuracy: 0.9081 - val_loss: 1.4644 - val_accuracy: 0.6491\n",
            "Epoch 19/50\n",
            "62/62 [==============================] - ETA: 0s - loss: 0.2513 - accuracy: 0.9183\n",
            "Epoch 19: val_accuracy did not improve from 0.75439\n",
            "62/62 [==============================] - 5s 79ms/step - loss: 0.2513 - accuracy: 0.9183 - val_loss: 1.6142 - val_accuracy: 0.7193\n",
            "Epoch 20/50\n",
            "62/62 [==============================] - ETA: 0s - loss: 0.2505 - accuracy: 0.9224\n",
            "Epoch 20: val_accuracy did not improve from 0.75439\n",
            "62/62 [==============================] - 5s 80ms/step - loss: 0.2505 - accuracy: 0.9224 - val_loss: 2.0944 - val_accuracy: 0.6257\n",
            "Epoch 21/50\n",
            "62/62 [==============================] - ETA: 0s - loss: 0.3076 - accuracy: 0.9030\n",
            "Epoch 21: val_accuracy did not improve from 0.75439\n",
            "62/62 [==============================] - 5s 81ms/step - loss: 0.3076 - accuracy: 0.9030 - val_loss: 1.2721 - val_accuracy: 0.7251\n",
            "Epoch 22/50\n",
            "62/62 [==============================] - ETA: 0s - loss: 0.2321 - accuracy: 0.9254\n",
            "Epoch 22: val_accuracy did not improve from 0.75439\n",
            "62/62 [==============================] - 5s 79ms/step - loss: 0.2321 - accuracy: 0.9254 - val_loss: 1.1939 - val_accuracy: 0.7193\n",
            "Epoch 23/50\n",
            "62/62 [==============================] - ETA: 0s - loss: 0.2039 - accuracy: 0.9336\n",
            "Epoch 23: val_accuracy did not improve from 0.75439\n",
            "62/62 [==============================] - 5s 80ms/step - loss: 0.2039 - accuracy: 0.9336 - val_loss: 1.4560 - val_accuracy: 0.7135\n",
            "Epoch 24/50\n",
            "62/62 [==============================] - ETA: 0s - loss: 0.2860 - accuracy: 0.9050\n",
            "Epoch 24: val_accuracy did not improve from 0.75439\n",
            "62/62 [==============================] - 5s 79ms/step - loss: 0.2860 - accuracy: 0.9050 - val_loss: 1.6625 - val_accuracy: 0.7251\n",
            "Epoch 25/50\n",
            "62/62 [==============================] - ETA: 0s - loss: 0.1734 - accuracy: 0.9499\n",
            "Epoch 25: val_accuracy did not improve from 0.75439\n",
            "62/62 [==============================] - 5s 79ms/step - loss: 0.1734 - accuracy: 0.9499 - val_loss: 1.4398 - val_accuracy: 0.6959\n",
            "Epoch 26/50\n",
            "62/62 [==============================] - ETA: 0s - loss: 0.2497 - accuracy: 0.9285\n",
            "Epoch 26: val_accuracy did not improve from 0.75439\n",
            "62/62 [==============================] - 6s 100ms/step - loss: 0.2497 - accuracy: 0.9285 - val_loss: 1.8295 - val_accuracy: 0.7251\n",
            "Epoch 27/50\n",
            "62/62 [==============================] - ETA: 0s - loss: 0.2038 - accuracy: 0.9510\n",
            "Epoch 27: val_accuracy did not improve from 0.75439\n",
            "62/62 [==============================] - 5s 79ms/step - loss: 0.2038 - accuracy: 0.9510 - val_loss: 2.0389 - val_accuracy: 0.6959\n",
            "Epoch 28/50\n",
            "62/62 [==============================] - ETA: 0s - loss: 0.1702 - accuracy: 0.9377\n",
            "Epoch 28: val_accuracy did not improve from 0.75439\n",
            "62/62 [==============================] - 5s 82ms/step - loss: 0.1702 - accuracy: 0.9377 - val_loss: 1.6368 - val_accuracy: 0.7368\n",
            "Epoch 29/50\n",
            "62/62 [==============================] - ETA: 0s - loss: 0.2597 - accuracy: 0.9326\n",
            "Epoch 29: val_accuracy did not improve from 0.75439\n",
            "62/62 [==============================] - 5s 79ms/step - loss: 0.2597 - accuracy: 0.9326 - val_loss: 2.1670 - val_accuracy: 0.6667\n",
            "Epoch 30/50\n",
            "62/62 [==============================] - ETA: 0s - loss: 0.1951 - accuracy: 0.9459\n",
            "Epoch 30: val_accuracy did not improve from 0.75439\n",
            "62/62 [==============================] - 5s 79ms/step - loss: 0.1951 - accuracy: 0.9459 - val_loss: 1.7653 - val_accuracy: 0.7018\n",
            "Epoch 31/50\n",
            "62/62 [==============================] - ETA: 0s - loss: 0.2338 - accuracy: 0.9367\n",
            "Epoch 31: val_accuracy did not improve from 0.75439\n",
            "62/62 [==============================] - 5s 80ms/step - loss: 0.2338 - accuracy: 0.9367 - val_loss: 1.6860 - val_accuracy: 0.7310\n",
            "Epoch 32/50\n",
            "62/62 [==============================] - ETA: 0s - loss: 0.1465 - accuracy: 0.9540\n",
            "Epoch 32: val_accuracy did not improve from 0.75439\n",
            "62/62 [==============================] - 5s 80ms/step - loss: 0.1465 - accuracy: 0.9540 - val_loss: 1.7648 - val_accuracy: 0.7135\n",
            "Epoch 33/50\n",
            "62/62 [==============================] - ETA: 0s - loss: 0.2360 - accuracy: 0.9408\n",
            "Epoch 33: val_accuracy did not improve from 0.75439\n",
            "62/62 [==============================] - 5s 80ms/step - loss: 0.2360 - accuracy: 0.9408 - val_loss: 1.8188 - val_accuracy: 0.7193\n",
            "Epoch 34/50\n",
            "62/62 [==============================] - ETA: 0s - loss: 0.2011 - accuracy: 0.9418\n",
            "Epoch 34: val_accuracy did not improve from 0.75439\n",
            "62/62 [==============================] - 5s 80ms/step - loss: 0.2011 - accuracy: 0.9418 - val_loss: 1.6613 - val_accuracy: 0.7544\n",
            "Epoch 35/50\n",
            "62/62 [==============================] - ETA: 0s - loss: 0.2344 - accuracy: 0.9438\n",
            "Epoch 35: val_accuracy did not improve from 0.75439\n",
            "62/62 [==============================] - 5s 81ms/step - loss: 0.2344 - accuracy: 0.9438 - val_loss: 2.4216 - val_accuracy: 0.7193\n",
            "Epoch 36/50\n",
            "62/62 [==============================] - ETA: 0s - loss: 0.1539 - accuracy: 0.9561\n",
            "Epoch 36: val_accuracy did not improve from 0.75439\n",
            "62/62 [==============================] - 6s 99ms/step - loss: 0.1539 - accuracy: 0.9561 - val_loss: 2.1662 - val_accuracy: 0.7485\n",
            "Epoch 37/50\n",
            "62/62 [==============================] - ETA: 0s - loss: 0.1820 - accuracy: 0.9499\n",
            "Epoch 37: val_accuracy did not improve from 0.75439\n",
            "62/62 [==============================] - 5s 80ms/step - loss: 0.1820 - accuracy: 0.9499 - val_loss: 1.6739 - val_accuracy: 0.7427\n",
            "Epoch 38/50\n",
            "62/62 [==============================] - ETA: 0s - loss: 0.1809 - accuracy: 0.9479\n",
            "Epoch 38: val_accuracy did not improve from 0.75439\n",
            "62/62 [==============================] - 5s 80ms/step - loss: 0.1809 - accuracy: 0.9479 - val_loss: 2.0375 - val_accuracy: 0.7544\n",
            "Epoch 39/50\n",
            "62/62 [==============================] - ETA: 0s - loss: 0.2031 - accuracy: 0.9479\n",
            "Epoch 39: val_accuracy did not improve from 0.75439\n",
            "62/62 [==============================] - 5s 80ms/step - loss: 0.2031 - accuracy: 0.9479 - val_loss: 2.7070 - val_accuracy: 0.6374\n",
            "Epoch 40/50\n",
            "62/62 [==============================] - ETA: 0s - loss: 0.1829 - accuracy: 0.9591\n",
            "Epoch 40: val_accuracy did not improve from 0.75439\n",
            "62/62 [==============================] - 5s 80ms/step - loss: 0.1829 - accuracy: 0.9591 - val_loss: 2.5852 - val_accuracy: 0.7135\n",
            "Epoch 41/50\n",
            "62/62 [==============================] - ETA: 0s - loss: 0.1044 - accuracy: 0.9714\n",
            "Epoch 41: val_accuracy did not improve from 0.75439\n",
            "62/62 [==============================] - 5s 80ms/step - loss: 0.1044 - accuracy: 0.9714 - val_loss: 2.4505 - val_accuracy: 0.6901\n",
            "Epoch 42/50\n",
            "62/62 [==============================] - ETA: 0s - loss: 0.1356 - accuracy: 0.9734\n",
            "Epoch 42: val_accuracy did not improve from 0.75439\n",
            "62/62 [==============================] - 5s 80ms/step - loss: 0.1356 - accuracy: 0.9734 - val_loss: 2.3358 - val_accuracy: 0.7251\n",
            "Epoch 43/50\n",
            "62/62 [==============================] - ETA: 0s - loss: 0.1522 - accuracy: 0.9591\n",
            "Epoch 43: val_accuracy did not improve from 0.75439\n",
            "62/62 [==============================] - 5s 80ms/step - loss: 0.1522 - accuracy: 0.9591 - val_loss: 2.6320 - val_accuracy: 0.7135\n",
            "Epoch 44/50\n",
            "62/62 [==============================] - ETA: 0s - loss: 0.1061 - accuracy: 0.9745\n",
            "Epoch 44: val_accuracy did not improve from 0.75439\n",
            "62/62 [==============================] - 5s 80ms/step - loss: 0.1061 - accuracy: 0.9745 - val_loss: 1.8721 - val_accuracy: 0.7135\n",
            "Epoch 45/50\n",
            "62/62 [==============================] - ETA: 0s - loss: 0.1252 - accuracy: 0.9734\n",
            "Epoch 45: val_accuracy did not improve from 0.75439\n",
            "62/62 [==============================] - 5s 81ms/step - loss: 0.1252 - accuracy: 0.9734 - val_loss: 2.5694 - val_accuracy: 0.7251\n",
            "Epoch 46/50\n",
            "62/62 [==============================] - ETA: 0s - loss: 0.1094 - accuracy: 0.9745\n",
            "Epoch 46: val_accuracy did not improve from 0.75439\n",
            "62/62 [==============================] - 6s 97ms/step - loss: 0.1094 - accuracy: 0.9745 - val_loss: 3.7867 - val_accuracy: 0.7076\n",
            "Epoch 47/50\n",
            "62/62 [==============================] - ETA: 0s - loss: 0.1439 - accuracy: 0.9683\n",
            "Epoch 47: val_accuracy did not improve from 0.75439\n",
            "62/62 [==============================] - 5s 79ms/step - loss: 0.1439 - accuracy: 0.9683 - val_loss: 2.4010 - val_accuracy: 0.7135\n",
            "Epoch 48/50\n",
            "62/62 [==============================] - ETA: 0s - loss: 0.1048 - accuracy: 0.9704\n",
            "Epoch 48: val_accuracy did not improve from 0.75439\n",
            "62/62 [==============================] - 6s 100ms/step - loss: 0.1048 - accuracy: 0.9704 - val_loss: 2.3801 - val_accuracy: 0.7368\n",
            "Epoch 49/50\n",
            "62/62 [==============================] - ETA: 0s - loss: 0.1018 - accuracy: 0.9785\n",
            "Epoch 49: val_accuracy did not improve from 0.75439\n",
            "62/62 [==============================] - 5s 78ms/step - loss: 0.1018 - accuracy: 0.9785 - val_loss: 2.7072 - val_accuracy: 0.6901\n",
            "Epoch 50/50\n",
            "62/62 [==============================] - ETA: 0s - loss: 0.1812 - accuracy: 0.9561\n",
            "Epoch 50: val_accuracy did not improve from 0.75439\n",
            "62/62 [==============================] - 5s 78ms/step - loss: 0.1812 - accuracy: 0.9561 - val_loss: 2.5746 - val_accuracy: 0.7251\n"
          ]
        }
      ]
    },
    {
      "cell_type": "code",
      "source": [
        "plot_metrics(d3_history)"
      ],
      "metadata": {
        "colab": {
          "base_uri": "https://localhost:8080/",
          "height": 332
        },
        "id": "d2VOfCf5aULA",
        "outputId": "69a267da-2b81-46fe-a1f5-fe73751b2965"
      },
      "execution_count": null,
      "outputs": [
        {
          "output_type": "stream",
          "name": "stdout",
          "text": [
            "Best Model:\n",
            "epoch: 14 , val_accuracy: 0.7543859481811523 , val_loss: 0.8798369765281677\n"
          ]
        },
        {
          "output_type": "display_data",
          "data": {
            "text/plain": [
              "<Figure size 720x288 with 2 Axes>"
            ],
            "image/png": "[encoded data removed]"
          },
          "metadata": {}
        }
      ]
    },
    {
      "cell_type": "code",
      "source": [
        "ft_model, ft_history = finetune_categorical_model()"
      ],
      "metadata": {
        "colab": {
          "base_uri": "https://localhost:8080/"
        },
        "id": "dvYpjP5KvFhQ",
        "outputId": "0a42cae1-8a76-46f2-daa2-e74c11f695a4"
      },
      "execution_count": null,
      "outputs": [
        {
          "output_type": "stream",
          "name": "stdout",
          "text": [
            "Model loaded.\n",
            "Found 979 images belonging to 3 classes.\n",
            "Found 171 images belonging to 3 classes.\n"
          ]
        },
        {
          "output_type": "stream",
          "name": "stderr",
          "text": [
            "/usr/local/lib/python3.7/dist-packages/ipykernel_launcher.py:30: UserWarning: `Model.fit_generator` is deprecated and will be removed in a future version. Please use `Model.fit`, which supports generators.\n"
          ]
        },
        {
          "output_type": "stream",
          "name": "stdout",
          "text": [
            "61/61 [==============================] - ETA: 0s - loss: 0.6634 - accuracy: 0.7778 \n",
            "Epoch 1: val_accuracy improved from -inf to 0.75000, saving model to /content/drive/MyDrive/DS_Project/Dataset/car-damage-dataset/data2a/ft_model.h5\n",
            "61/61 [==============================] - 800s 13s/step - loss: 0.6634 - accuracy: 0.7778 - val_loss: 0.8373 - val_accuracy: 0.7500\n"
          ]
        }
      ]
    },
    {
      "cell_type": "code",
      "source": [
        "ft_model = load_model(location + '/ft_model.h5')"
      ],
      "metadata": {
        "id": "W91cnUJ0vHMD"
      },
      "execution_count": null,
      "outputs": []
    },
    {
      "cell_type": "code",
      "source": [
        "validation_labels = np.array([0] * validation_samples[0] + \n",
        "                             [1] * validation_samples[1] +\n",
        "                             [2] * validation_samples[2])"
      ],
      "metadata": {
        "id": "emNX5wo_vMQA"
      },
      "execution_count": null,
      "outputs": []
    },
    {
      "cell_type": "code",
      "source": [
        "#cm = evaluate_categorical_model(ft_model, validation_data_dir, validation_labels)"
      ],
      "metadata": {
        "id": "y5J5F10evM7X"
      },
      "execution_count": null,
      "outputs": []
    },
    {
      "cell_type": "code",
      "source": [
        "def pipe3(image_path, model):\n",
        "    urllib.request.urlretrieve(image_path, 'save.jpg')\n",
        "    img = load_img('save.jpg', target_size=(256,256))\n",
        "    x = img_to_array(img)\n",
        "    x = x.reshape((1,)+x.shape)/255\n",
        "    pred = model.predict(x)\n",
        "    pred_labels = np.argmax(pred, axis=1)\n",
        "    d = {0:'Front', 1:'Rear', 2:'Side'}\n",
        "    for key in d.keys():\n",
        "        if pred_labels[0] == key:\n",
        "            print(\"Validating location of damage....Result:\",d[key])\n",
        "    print(\"Severity assessment complete.\")"
      ],
      "metadata": {
        "id": "7-uC2cjFvOsI"
      },
      "execution_count": null,
      "outputs": []
    },
    {
      "cell_type": "code",
      "source": [
        "pipe3('https://c8.alamy.com/comp/K8P5B1/damaged-car-left-at-side-of-city-road-after-traffic-accident-K8P5B1.jpg', ft_model)"
      ],
      "metadata": {
        "colab": {
          "base_uri": "https://localhost:8080/"
        },
        "id": "7qZQq8vGvSaY",
        "outputId": "1897e5c4-c872-41fe-b454-95de0033900d"
      },
      "execution_count": null,
      "outputs": [
        {
          "output_type": "stream",
          "name": "stdout",
          "text": [
            "1/1 [==============================] - 1s 1s/step\n",
            "Validating location of damage....Result: Side\n",
            "Severity assessment complete.\n"
          ]
        }
      ]
    }
  ]
}